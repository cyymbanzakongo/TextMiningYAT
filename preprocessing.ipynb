{
 "cells": [
  {
   "cell_type": "code",
   "execution_count": 100,
   "metadata": {},
   "outputs": [],
   "source": [
    "import pandas as pd\n",
    "from itertools import chain\n",
    "pd.options.display.float_format = '{:,.0f}'.format"
   ]
  },
  {
   "cell_type": "code",
   "execution_count": 66,
   "metadata": {},
   "outputs": [],
   "source": [
    "df_racism = pd.read_csv(\"twitter_racism_parsed_dataset.csv\", engine='python')  #contains tweets containing racism 13.4\n",
    "df_sexism = pd.read_csv(\"twitter_sexism_parsed_dataset.csv\", engine='python')  #contains tweets containing sexism 14.8\n",
    "df_both = pd.read_csv(\"twitter_parsed_dataset.csv\", engine='python')           #contains tweets containing racism and sexism 16.8k\n",
    "df_bullying = pd.read_csv(\"kaggle_parsed_dataset.csv\", engine='python')        #contains tweets containing general cyber-bullying 8k"
   ]
  },
  {
   "cell_type": "code",
   "execution_count": 67,
   "metadata": {},
   "outputs": [
    {
     "data": {
      "text/plain": [
       "index       8799\n",
       "oh_label    8799\n",
       "Date        7557\n",
       "Text        8799\n",
       "dtype: int64"
      ]
     },
     "execution_count": 67,
     "metadata": {},
     "output_type": "execute_result"
    }
   ],
   "source": [
    "df_bullying.count()"
   ]
  },
  {
   "cell_type": "code",
   "execution_count": 68,
   "metadata": {},
   "outputs": [],
   "source": [
    "#since df racism, sexism and both are of the same row column format, deleting unwanted columns from them once concatenated..\n",
    "df_del = pd.concat([df_racism, df_sexism, df_both])\n",
    "del df_del['index']\n",
    "del df_del['id']\n"
   ]
  },
  {
   "cell_type": "code",
   "execution_count": 69,
   "metadata": {},
   "outputs": [
    {
     "data": {
      "text/html": [
       "<div>\n",
       "<style scoped>\n",
       "    .dataframe tbody tr th:only-of-type {\n",
       "        vertical-align: middle;\n",
       "    }\n",
       "\n",
       "    .dataframe tbody tr th {\n",
       "        vertical-align: top;\n",
       "    }\n",
       "\n",
       "    .dataframe thead th {\n",
       "        text-align: right;\n",
       "    }\n",
       "</style>\n",
       "<table border=\"1\" class=\"dataframe\">\n",
       "  <thead>\n",
       "    <tr style=\"text-align: right;\">\n",
       "      <th></th>\n",
       "      <th>Text</th>\n",
       "      <th>Annotation</th>\n",
       "      <th>oh_label</th>\n",
       "    </tr>\n",
       "  </thead>\n",
       "  <tbody>\n",
       "    <tr>\n",
       "      <th>0</th>\n",
       "      <td>@AAlwuhaib1977 Muslim mob violence against Hin...</td>\n",
       "      <td>racism</td>\n",
       "      <td>1</td>\n",
       "    </tr>\n",
       "    <tr>\n",
       "      <th>1</th>\n",
       "      <td>@Te4m_NiGhtM4Re http://t.co/5Ih7MkDbQG</td>\n",
       "      <td>none</td>\n",
       "      <td>0</td>\n",
       "    </tr>\n",
       "    <tr>\n",
       "      <th>2</th>\n",
       "      <td>@jncatron @isra_jourisra @AMPalestine Islamoph...</td>\n",
       "      <td>racism</td>\n",
       "      <td>1</td>\n",
       "    </tr>\n",
       "    <tr>\n",
       "      <th>3</th>\n",
       "      <td>Finally I'm all caught up, and that sudden dea...</td>\n",
       "      <td>none</td>\n",
       "      <td>0</td>\n",
       "    </tr>\n",
       "    <tr>\n",
       "      <th>4</th>\n",
       "      <td>@carolinesinders @herecomesfran *hugs*</td>\n",
       "      <td>none</td>\n",
       "      <td>0</td>\n",
       "    </tr>\n",
       "  </tbody>\n",
       "</table>\n",
       "</div>"
      ],
      "text/plain": [
       "                                                Text Annotation  oh_label\n",
       "0  @AAlwuhaib1977 Muslim mob violence against Hin...     racism         1\n",
       "1             @Te4m_NiGhtM4Re http://t.co/5Ih7MkDbQG       none         0\n",
       "2  @jncatron @isra_jourisra @AMPalestine Islamoph...     racism         1\n",
       "3  Finally I'm all caught up, and that sudden dea...       none         0\n",
       "4             @carolinesinders @herecomesfran *hugs*       none         0"
      ]
     },
     "execution_count": 69,
     "metadata": {},
     "output_type": "execute_result"
    }
   ],
   "source": [
    "df_del.head()"
   ]
  },
  {
   "cell_type": "code",
   "execution_count": 70,
   "metadata": {},
   "outputs": [],
   "source": [
    "#bringing df_bullying into the same format as the rest.."
   ]
  },
  {
   "cell_type": "code",
   "execution_count": 71,
   "metadata": {},
   "outputs": [],
   "source": [
    "del df_bullying['Date']\n",
    "del df_bullying['index']"
   ]
  },
  {
   "cell_type": "code",
   "execution_count": 72,
   "metadata": {},
   "outputs": [],
   "source": [
    "ohs = df_bullying['oh_label'].tolist()\n",
    "label = []\n",
    "for oh in ohs:\n",
    "    if oh == 1:\n",
    "        label.append('abuse')\n",
    "    elif oh == 0:\n",
    "        label.append('none')\n",
    "\n",
    "df_bullying['Annotation'] = label\n",
    "df_bullying_final = df_bullying[['Text','Annotation','oh_label']]"
   ]
  },
  {
   "cell_type": "code",
   "execution_count": 73,
   "metadata": {},
   "outputs": [
    {
     "data": {
      "text/html": [
       "<div>\n",
       "<style scoped>\n",
       "    .dataframe tbody tr th:only-of-type {\n",
       "        vertical-align: middle;\n",
       "    }\n",
       "\n",
       "    .dataframe tbody tr th {\n",
       "        vertical-align: top;\n",
       "    }\n",
       "\n",
       "    .dataframe thead th {\n",
       "        text-align: right;\n",
       "    }\n",
       "</style>\n",
       "<table border=\"1\" class=\"dataframe\">\n",
       "  <thead>\n",
       "    <tr style=\"text-align: right;\">\n",
       "      <th></th>\n",
       "      <th>Text</th>\n",
       "      <th>Annotation</th>\n",
       "      <th>oh_label</th>\n",
       "    </tr>\n",
       "  </thead>\n",
       "  <tbody>\n",
       "    <tr>\n",
       "      <th>0</th>\n",
       "      <td>\"You fuck your dad.\"</td>\n",
       "      <td>abuse</td>\n",
       "      <td>1</td>\n",
       "    </tr>\n",
       "    <tr>\n",
       "      <th>1</th>\n",
       "      <td>\"i really don't understand your point.\\xa0 It ...</td>\n",
       "      <td>none</td>\n",
       "      <td>0</td>\n",
       "    </tr>\n",
       "    <tr>\n",
       "      <th>2</th>\n",
       "      <td>\"A\\\\xc2\\\\xa0majority of Canadians can and has ...</td>\n",
       "      <td>none</td>\n",
       "      <td>0</td>\n",
       "    </tr>\n",
       "    <tr>\n",
       "      <th>3</th>\n",
       "      <td>\"listen if you dont wanna get married to a man...</td>\n",
       "      <td>none</td>\n",
       "      <td>0</td>\n",
       "    </tr>\n",
       "    <tr>\n",
       "      <th>4</th>\n",
       "      <td>\"C\\xe1c b\\u1ea1n xu\\u1ed1ng \\u0111\\u01b0\\u1edd...</td>\n",
       "      <td>none</td>\n",
       "      <td>0</td>\n",
       "    </tr>\n",
       "  </tbody>\n",
       "</table>\n",
       "</div>"
      ],
      "text/plain": [
       "                                                Text Annotation  oh_label\n",
       "0                               \"You fuck your dad.\"      abuse         1\n",
       "1  \"i really don't understand your point.\\xa0 It ...       none         0\n",
       "2  \"A\\\\xc2\\\\xa0majority of Canadians can and has ...       none         0\n",
       "3  \"listen if you dont wanna get married to a man...       none         0\n",
       "4  \"C\\xe1c b\\u1ea1n xu\\u1ed1ng \\u0111\\u01b0\\u1edd...       none         0"
      ]
     },
     "execution_count": 73,
     "metadata": {},
     "output_type": "execute_result"
    }
   ],
   "source": [
    "df_bullying_final.head()"
   ]
  },
  {
   "cell_type": "code",
   "execution_count": 74,
   "metadata": {},
   "outputs": [],
   "source": [
    "#finally concatenating all databases.."
   ]
  },
  {
   "cell_type": "code",
   "execution_count": 75,
   "metadata": {},
   "outputs": [],
   "source": [
    "df_final = pd.concat([df_del, df_bullying_final])"
   ]
  },
  {
   "cell_type": "code",
   "execution_count": 76,
   "metadata": {},
   "outputs": [],
   "source": [
    "df_final.drop_duplicates(inplace= True)"
   ]
  },
  {
   "cell_type": "code",
   "execution_count": 77,
   "metadata": {},
   "outputs": [
    {
     "data": {
      "text/html": [
       "<div>\n",
       "<style scoped>\n",
       "    .dataframe tbody tr th:only-of-type {\n",
       "        vertical-align: middle;\n",
       "    }\n",
       "\n",
       "    .dataframe tbody tr th {\n",
       "        vertical-align: top;\n",
       "    }\n",
       "\n",
       "    .dataframe thead th {\n",
       "        text-align: right;\n",
       "    }\n",
       "</style>\n",
       "<table border=\"1\" class=\"dataframe\">\n",
       "  <thead>\n",
       "    <tr style=\"text-align: right;\">\n",
       "      <th></th>\n",
       "      <th>Text</th>\n",
       "      <th>Annotation</th>\n",
       "      <th>oh_label</th>\n",
       "    </tr>\n",
       "  </thead>\n",
       "  <tbody>\n",
       "    <tr>\n",
       "      <th>0</th>\n",
       "      <td>@AAlwuhaib1977 Muslim mob violence against Hin...</td>\n",
       "      <td>racism</td>\n",
       "      <td>1</td>\n",
       "    </tr>\n",
       "    <tr>\n",
       "      <th>1</th>\n",
       "      <td>@Te4m_NiGhtM4Re http://t.co/5Ih7MkDbQG</td>\n",
       "      <td>none</td>\n",
       "      <td>0</td>\n",
       "    </tr>\n",
       "    <tr>\n",
       "      <th>2</th>\n",
       "      <td>@jncatron @isra_jourisra @AMPalestine Islamoph...</td>\n",
       "      <td>racism</td>\n",
       "      <td>1</td>\n",
       "    </tr>\n",
       "    <tr>\n",
       "      <th>3</th>\n",
       "      <td>Finally I'm all caught up, and that sudden dea...</td>\n",
       "      <td>none</td>\n",
       "      <td>0</td>\n",
       "    </tr>\n",
       "    <tr>\n",
       "      <th>4</th>\n",
       "      <td>@carolinesinders @herecomesfran *hugs*</td>\n",
       "      <td>none</td>\n",
       "      <td>0</td>\n",
       "    </tr>\n",
       "    <tr>\n",
       "      <th>...</th>\n",
       "      <td>...</td>\n",
       "      <td>...</td>\n",
       "      <td>...</td>\n",
       "    </tr>\n",
       "    <tr>\n",
       "      <th>8794</th>\n",
       "      <td>\"Never really gave it much thought. I just fig...</td>\n",
       "      <td>none</td>\n",
       "      <td>0</td>\n",
       "    </tr>\n",
       "    <tr>\n",
       "      <th>8795</th>\n",
       "      <td>\"Nadie se salva de la regla 34 xd\"</td>\n",
       "      <td>none</td>\n",
       "      <td>0</td>\n",
       "    </tr>\n",
       "    <tr>\n",
       "      <th>8796</th>\n",
       "      <td>\"Question: Are you a boy or a girl?\"</td>\n",
       "      <td>none</td>\n",
       "      <td>0</td>\n",
       "    </tr>\n",
       "    <tr>\n",
       "      <th>8797</th>\n",
       "      <td>\"Leave your email or phone number and maybe yo...</td>\n",
       "      <td>abuse</td>\n",
       "      <td>1</td>\n",
       "    </tr>\n",
       "    <tr>\n",
       "      <th>8798</th>\n",
       "      <td>\"From the scenarios you present, I see you bel...</td>\n",
       "      <td>none</td>\n",
       "      <td>0</td>\n",
       "    </tr>\n",
       "  </tbody>\n",
       "</table>\n",
       "<p>25599 rows × 3 columns</p>\n",
       "</div>"
      ],
      "text/plain": [
       "                                                   Text Annotation  oh_label\n",
       "0     @AAlwuhaib1977 Muslim mob violence against Hin...     racism         1\n",
       "1                @Te4m_NiGhtM4Re http://t.co/5Ih7MkDbQG       none         0\n",
       "2     @jncatron @isra_jourisra @AMPalestine Islamoph...     racism         1\n",
       "3     Finally I'm all caught up, and that sudden dea...       none         0\n",
       "4                @carolinesinders @herecomesfran *hugs*       none         0\n",
       "...                                                 ...        ...       ...\n",
       "8794  \"Never really gave it much thought. I just fig...       none         0\n",
       "8795                 \"Nadie se salva de la regla 34 xd\"       none         0\n",
       "8796               \"Question: Are you a boy or a girl?\"       none         0\n",
       "8797  \"Leave your email or phone number and maybe yo...      abuse         1\n",
       "8798  \"From the scenarios you present, I see you bel...       none         0\n",
       "\n",
       "[25599 rows x 3 columns]"
      ]
     },
     "execution_count": 77,
     "metadata": {},
     "output_type": "execute_result"
    }
   ],
   "source": [
    "df_final"
   ]
  },
  {
   "cell_type": "code",
   "execution_count": 78,
   "metadata": {},
   "outputs": [],
   "source": [
    "df_dropped = df_final.dropna(how='any')"
   ]
  },
  {
   "cell_type": "code",
   "execution_count": 79,
   "metadata": {},
   "outputs": [
    {
     "data": {
      "text/plain": [
       "Text          25596\n",
       "Annotation    25596\n",
       "oh_label      25596\n",
       "dtype: int64"
      ]
     },
     "execution_count": 79,
     "metadata": {},
     "output_type": "execute_result"
    }
   ],
   "source": [
    "df_dropped.count()"
   ]
  },
  {
   "cell_type": "code",
   "execution_count": 80,
   "metadata": {},
   "outputs": [
    {
     "data": {
      "text/plain": [
       "25596"
      ]
     },
     "execution_count": 80,
     "metadata": {},
     "output_type": "execute_result"
    }
   ],
   "source": [
    "records = df_dropped.to_records(index=False)\n",
    "tweet_ann_label = list(records)\n",
    "\n",
    "#prints an example of a (tweet, annotation, label) tuple:\n",
    "tweet_ann_label[0]\n",
    "len(tweet_ann_label)"
   ]
  },
  {
   "cell_type": "code",
   "execution_count": 81,
   "metadata": {},
   "outputs": [],
   "source": [
    "from nltk.tokenize import TweetTokenizer #I chose to tokenize with this, as it gets rid of @ handlers\n",
    "tknzr = TweetTokenizer(preserve_case=True, reduce_len=False, strip_handles=True)\n",
    "\n",
    "lst = []\n",
    "\n",
    "for tweet, ann, label in tweet_ann_label:    \n",
    "    if type(tweet) != str: #removing tweets that are not 'tokenizable'\n",
    "        pass\n",
    "    else:\n",
    "        lst.append((tknzr.tokenize(tweet), ann, label))"
   ]
  },
  {
   "cell_type": "code",
   "execution_count": 82,
   "metadata": {},
   "outputs": [
    {
     "data": {
      "text/plain": [
       "25596"
      ]
     },
     "execution_count": 82,
     "metadata": {},
     "output_type": "execute_result"
    }
   ],
   "source": [
    "len(lst)"
   ]
  },
  {
   "cell_type": "code",
   "execution_count": 83,
   "metadata": {},
   "outputs": [],
   "source": [
    "import nltk\n",
    "from nltk.corpus import stopwords\n",
    "stop_words = nltk.corpus.stopwords.words('english')\n",
    "from nltk.tokenize import RegexpTokenizer\n",
    "from nltk.stem import PorterStemmer \n",
    "ps = PorterStemmer() \n",
    "\n",
    "remove = \"!$%&()*+, .-./:;<=>?@[\\]^_`{|}~]\\wdiwj/'0123456789......\\\"\\x92\\\\n\\r\""
   ]
  },
  {
   "cell_type": "code",
   "execution_count": 84,
   "metadata": {},
   "outputs": [],
   "source": [
    "ft = []\n",
    "for tokens, annotation, label in lst:\n",
    "    filt = []\n",
    "    for token in tokens:\n",
    "        if 'http' in token.lower():\n",
    "            continue\n",
    "        if token.lower() in remove:\n",
    "            continue\n",
    "        if token.lower() in stop_words:\n",
    "            continue\n",
    "        else:\n",
    "            filt.append((nltk.WordNetLemmatizer().lemmatize(token.lower(), 'v')))\n",
    "       # else:\n",
    "        #    filt.append(ps.stem((nltk.WordNetLemmatizer().lemmatize(token.lower(), 'v'))))\n",
    "    ft.append((filt, annotation, int(label)))\n",
    "\n",
    "filtered_tweets = [x for x in ft if x[0] != []]"
   ]
  },
  {
   "cell_type": "code",
   "execution_count": 85,
   "metadata": {},
   "outputs": [
    {
     "data": {
      "text/plain": [
       "(['muslim',\n",
       "  'mob',\n",
       "  'violence',\n",
       "  'hindus',\n",
       "  'bangladesh',\n",
       "  'continue',\n",
       "  '2014',\n",
       "  '#islam'],\n",
       " 'racism',\n",
       " 1)"
      ]
     },
     "execution_count": 85,
     "metadata": {},
     "output_type": "execute_result"
    }
   ],
   "source": [
    "filtered_tweets[0]"
   ]
  },
  {
   "cell_type": "code",
   "execution_count": 86,
   "metadata": {
    "scrolled": true
   },
   "outputs": [
    {
     "data": {
      "text/html": [
       "<div>\n",
       "<style scoped>\n",
       "    .dataframe tbody tr th:only-of-type {\n",
       "        vertical-align: middle;\n",
       "    }\n",
       "\n",
       "    .dataframe tbody tr th {\n",
       "        vertical-align: top;\n",
       "    }\n",
       "\n",
       "    .dataframe thead th {\n",
       "        text-align: right;\n",
       "    }\n",
       "</style>\n",
       "<table border=\"1\" class=\"dataframe\">\n",
       "  <thead>\n",
       "    <tr style=\"text-align: right;\">\n",
       "      <th></th>\n",
       "      <th>Tokens</th>\n",
       "      <th>Annotation</th>\n",
       "      <th>Label</th>\n",
       "    </tr>\n",
       "  </thead>\n",
       "  <tbody>\n",
       "    <tr>\n",
       "      <th>0</th>\n",
       "      <td>[muslim, mob, violence, hindus, bangladesh, co...</td>\n",
       "      <td>racism</td>\n",
       "      <td>1</td>\n",
       "    </tr>\n",
       "    <tr>\n",
       "      <th>1</th>\n",
       "      <td>[islamophobia, like, idea, naziphobia, islam, ...</td>\n",
       "      <td>racism</td>\n",
       "      <td>1</td>\n",
       "    </tr>\n",
       "    <tr>\n",
       "      <th>2</th>\n",
       "      <td>[finally, i'm, catch, sudden, death, cook, loo...</td>\n",
       "      <td>none</td>\n",
       "      <td>0</td>\n",
       "    </tr>\n",
       "    <tr>\n",
       "      <th>3</th>\n",
       "      <td>[hug]</td>\n",
       "      <td>none</td>\n",
       "      <td>0</td>\n",
       "    </tr>\n",
       "    <tr>\n",
       "      <th>4</th>\n",
       "      <td>[please, please, start, use, discernment, blun...</td>\n",
       "      <td>none</td>\n",
       "      <td>0</td>\n",
       "    </tr>\n",
       "    <tr>\n",
       "      <th>...</th>\n",
       "      <td>...</td>\n",
       "      <td>...</td>\n",
       "      <td>...</td>\n",
       "    </tr>\n",
       "    <tr>\n",
       "      <th>25303</th>\n",
       "      <td>[never, really, give, much, think, figure, bac...</td>\n",
       "      <td>none</td>\n",
       "      <td>0</td>\n",
       "    </tr>\n",
       "    <tr>\n",
       "      <th>25304</th>\n",
       "      <td>[nadie, se, salva, de, la, regla, xd]</td>\n",
       "      <td>none</td>\n",
       "      <td>0</td>\n",
       "    </tr>\n",
       "    <tr>\n",
       "      <th>25305</th>\n",
       "      <td>[question, boy, girl]</td>\n",
       "      <td>none</td>\n",
       "      <td>0</td>\n",
       "    </tr>\n",
       "    <tr>\n",
       "      <th>25306</th>\n",
       "      <td>[leave, email, phone, number, maybe, twit, mee...</td>\n",
       "      <td>abuse</td>\n",
       "      <td>1</td>\n",
       "    </tr>\n",
       "    <tr>\n",
       "      <th>25307</th>\n",
       "      <td>[scenarios, present, see, believe, people, rob...</td>\n",
       "      <td>none</td>\n",
       "      <td>0</td>\n",
       "    </tr>\n",
       "  </tbody>\n",
       "</table>\n",
       "<p>25308 rows × 3 columns</p>\n",
       "</div>"
      ],
      "text/plain": [
       "                                                  Tokens Annotation  Label\n",
       "0      [muslim, mob, violence, hindus, bangladesh, co...     racism      1\n",
       "1      [islamophobia, like, idea, naziphobia, islam, ...     racism      1\n",
       "2      [finally, i'm, catch, sudden, death, cook, loo...       none      0\n",
       "3                                                  [hug]       none      0\n",
       "4      [please, please, start, use, discernment, blun...       none      0\n",
       "...                                                  ...        ...    ...\n",
       "25303  [never, really, give, much, think, figure, bac...       none      0\n",
       "25304              [nadie, se, salva, de, la, regla, xd]       none      0\n",
       "25305                              [question, boy, girl]       none      0\n",
       "25306  [leave, email, phone, number, maybe, twit, mee...      abuse      1\n",
       "25307  [scenarios, present, see, believe, people, rob...       none      0\n",
       "\n",
       "[25308 rows x 3 columns]"
      ]
     },
     "execution_count": 86,
     "metadata": {},
     "output_type": "execute_result"
    }
   ],
   "source": [
    "df_tweets = pd.DataFrame(filtered_tweets, columns =['Tokens', 'Annotation', 'Label'])\n",
    "df_tweets"
   ]
  },
  {
   "cell_type": "code",
   "execution_count": 98,
   "metadata": {},
   "outputs": [
    {
     "name": "stdout",
     "output_type": "stream",
     "text": [
      "[['muslim', 'mob', 'violence', 'hindus', 'bangladesh', 'continue', '2014', '#islam'], ['islamophobia', 'like', 'idea', 'naziphobia', 'islam', 'religion', 'hate', 'must', 'outlaw'], ['finally', \"i'm\", 'catch', 'sudden', 'death', 'cook', 'look', 'like', 'gonna', 'intense', '#mkr'], ['hug'], ['please', 'please', 'start', 'use', 'discernment', 'blunt', 'steroids', 'mean', 'drug', 'dead'], ['soon', 'isis', 'chase', 'minorities', 'mosul', 'sunni', 'arabs', 'happy', 'steal', 'property', 'fuck'], ['glad', 'like'], ['islam', 'invade', 'conquer', '2/3', 'christiandom', 'christian', 'crusade', 'response', 'writer', 'liar'], ['approve', 'pedophile', 'prophet', 'rap', 'year', 'old', 'girl', 'like', 'say', 'hadith'], ['problem', 'vile', 'muslims', 'try', 'rationalize', 'excuse', 'crimes', 'islam', 'rather', 'get', 'rid']]\n"
     ]
    }
   ],
   "source": [
    "l = [row for row in df_tweets['Tokens'].values]\n",
    "l2 = \n",
    "print(l[:10])\n"
   ]
  },
  {
   "cell_type": "code",
   "execution_count": 87,
   "metadata": {},
   "outputs": [],
   "source": [
    "#df_tweets.to_csv('mixed.csv')"
   ]
  },
  {
   "cell_type": "code",
   "execution_count": null,
   "metadata": {},
   "outputs": [],
   "source": []
  }
 ],
 "metadata": {
  "kernelspec": {
   "display_name": "Python 3",
   "language": "python",
   "name": "python3"
  },
  "language_info": {
   "codemirror_mode": {
    "name": "ipython",
    "version": 3
   },
   "file_extension": ".py",
   "mimetype": "text/x-python",
   "name": "python",
   "nbconvert_exporter": "python",
   "pygments_lexer": "ipython3",
   "version": "3.7.10"
  }
 },
 "nbformat": 4,
 "nbformat_minor": 4
}
