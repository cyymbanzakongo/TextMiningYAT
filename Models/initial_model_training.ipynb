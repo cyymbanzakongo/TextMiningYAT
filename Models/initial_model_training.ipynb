{
 "cells": [
  {
   "cell_type": "code",
   "execution_count": 4,
   "metadata": {},
   "outputs": [],
   "source": [
    "import pandas as pd\n",
    "import numpy as np\n",
    "from pathlib import Path\n",
    "import nltk, spacy\n",
    "from nltk.corpus import stopwords\n",
    "from wordcloud import STOPWORDS\n",
    "from collections import Counter\n",
    "from gensim.parsing.preprocessing import STOPWORDS as SW\n",
    "\n",
    "pd.options.display.float_format = '{:,.0f}'.format"
   ]
  },
  {
   "cell_type": "code",
   "execution_count": 5,
   "metadata": {
    "tags": []
   },
   "outputs": [],
   "source": [
    "in_file = Path.cwd().parents[0] / 'Processed_datasets' / 'tweets_long_no_duplicates.csv'\n",
    "my_stopwords = stopwords.words('english')\n",
    "stopwords = set(STOPWORDS).union(my_stopwords) #preparing stopwards list\n",
    "custom_stopwords = ['hi', '\\n', '\\n\\n', '&amp;', ' ', '.', '-',\n",
    "                    'got', \"it's\", 'it’s', \"i'm\", 'i’m', 'im', 'want', 'like', '$', '@']\n",
    "nlp = spacy.load('en_core_web_sm', exclude=['ner', 'tok2vec', 'tagger', 'paerser', 'senter', 'lemmatizer', 'attribute_ruler']) # using only for stopwords\n",
    "STOP_WORDS = nlp.Defaults.stop_words.union(custom_stopwords)\n",
    "ALL_STOP_WORDS = STOP_WORDS.union(SW).union(stopwords)"
   ]
  },
  {
   "cell_type": "code",
   "execution_count": 6,
   "metadata": {},
   "outputs": [],
   "source": [
    "df_long = pd.read_csv(in_file, engine='python', usecols=['Tokens', 'Label']) #not using unnecessary columns"
   ]
  },
  {
   "cell_type": "code",
   "execution_count": 7,
   "metadata": {},
   "outputs": [
    {
     "name": "stdout",
     "output_type": "stream",
     "text": [
      "                                               Tokens  Label\n",
      "0   muslim mob violence against hindus in banglade...      1\n",
      "1   islamophobia is like the idea of naziphobia is...      1\n",
      "2   finally all caught up and that sudden death co...      0\n",
      "3   please please start using is your discernment ...      0\n",
      "4   as soon as isis chased all the minorities out ...      0\n",
      "5   islam invaded and conquered of christiandom be...      1\n",
      "6   do you approve of your pedophile prophet rapin...      1\n",
      "7   problem with vile muslims is that they try to ...      1\n",
      "8            tend to talk about it much personal info      0\n",
      "9   cool next time when a woman talks to him about...      0\n",
      "10  our judges are about to turn the heat up in th...      0\n",
      "11  lol this you walk by putting one foot in front...      0\n",
      "12  said wanted sorbet now and they should tell us...      0\n",
      "13  this fucking potato is blowing my mind duck fa...      0\n",
      "14  omg this churner feels like razor blades on my...      0\n",
      "0    15214\n",
      "1     7500\n",
      "Name: Label, dtype: int64\n"
     ]
    }
   ],
   "source": [
    "print(df_long.head(15))\n",
    "df_long.count()\n",
    "print(df_long['Label'].value_counts())"
   ]
  },
  {
   "cell_type": "code",
   "execution_count": 27,
   "metadata": {},
   "outputs": [],
   "source": [
    "#setting up baseline pipeline\n",
    "from nltk.tokenize import TweetTokenizer #I chose to tokenize with this, as it gets rid of @ handlers\n",
    "from sklearn.feature_extraction.text import TfidfVectorizer, CountVectorizer\n",
    "from sklearn.model_selection import train_test_split\n",
    "from imblearn.under_sampling import RandomUnderSampler\n",
    "from sklearn.preprocessing import StandardScaler\n"
   ]
  },
  {
   "cell_type": "code",
   "execution_count": 41,
   "metadata": {
    "jupyter": {
     "source_hidden": true
    },
    "tags": []
   },
   "outputs": [],
   "source": [
    "def make_dataset(d_frame, stopwords=True, tfidf=True, scaled=True, train=True): #function for creating dataset, paramaters for flexibility\n",
    "    \"\"\"Helper function for construction the classes later on - accepts a dataframe \n",
    "    as an input and 3 boolean and ouputs a tuple of either the test or dev set\n",
    "    The code block essentially repeates itself with minor argument tweaks\"\"\"\n",
    "    df = d_frame\n",
    "    if stopwords and tfidf and train:                                                       #all included\n",
    "        tknzr = TweetTokenizer(preserve_case=True, reduce_len=True)\n",
    "        vect = TfidfVectorizer(max_df=.9, min_df=25, strip_accents='unicode',\n",
    "                               tokenizer=tknzr.tokenize, stop_words=ALL_STOP_WORDS)\n",
    "        sampler_train = RandomUnderSampler(random_state=42) #undersampling  object to rebalance dataset\n",
    "        xs, ys = vect.fit_transform(df['Tokens'].values), df['Label'].values\n",
    "        x_train, x_dev, y_train, y_dev = train_test_split(xs, ys, train_size=.85, #creating train and dev sets with stratified sampling\n",
    "                                                          random_state=42, stratify=ys) \n",
    "        x_train, y_train = sampler_train.fit_resample(x_train, y_train) \n",
    "        return x_train, y_train\n",
    "    elif not stopwords and tfidf and train: #no stopwords\n",
    "        tknzr = TweetTokenizer(preserve_case=True, reduce_len=True)\n",
    "        vect = TfidfVectorizer(max_df=.9, min_df=25,strip_accents='unicode',\n",
    "                               tokenizer=tknzr.tokenize)\n",
    "        sampler_train = RandomUnderSampler(random_state=42) \n",
    "        xs, ys = vect.fit_transform(df['Tokens'].values), df['Label'].values\n",
    "        x_train, x_dev, y_train, y_dev = train_test_split(xs, ys, train_size=.85,\n",
    "                                                          random_state=42, stratify=ys)\n",
    "        x_train, y_train = sampler_train.fit_resample(x_train, y_train) \n",
    "        return x_train, y_train    \n",
    "    elif stopwords and not tfidf and train and scaled: #no tfidf\n",
    "        tknzr = TweetTokenizer(preserve_case=True, reduce_len=True)\n",
    "        vect = CountVectorizer(max_df=.9, min_df=25,\n",
    "                       strip_accents='unicode', tokenizer=tknzr.tokenize, stop_words=ALL_STOP_WORDS)\n",
    "        sampler_train = RandomUnderSampler(random_state=42) \n",
    "        xs, ys = vect.fit_transform(df['Tokens'].values), df['Label'].values\n",
    "        x_train, x_dev, y_train, y_dev = train_test_split(xs, ys, train_size=.85,\n",
    "                                                          random_state=42, stratify=ys)\n",
    "        x_train, y_train = sampler_train.fit_resample(x_train, y_train) \n",
    "        return x_train, y_train\n",
    "    elif not stopwords and not tfidf and train:\n",
    "        tknzr = TweetTokenizer(preserve_case=True, reduce_len=True)\n",
    "        vect = CountVectorizer(max_df=.9, min_df=25,\n",
    "                       strip_accents='unicode', tokenizer=tknzr.tokenize)\n",
    "        sampler_train = RandomUnderSampler(random_state=42) \n",
    "        xs, ys = vect.fit_transform(df['Tokens'].values), df['Label'].values\n",
    "        x_train, x_dev, y_train, y_dev = train_test_split(xs, ys, train_size=.85,\n",
    "                                                          random_state=42, stratify=ys)\n",
    "        x_train, y_train = sampler_train.fit_resample(x_train, y_train) \n",
    "        return x_train, y_train\n",
    "    elif stopwords and tfidf and not train:\n",
    "        tknzr = TweetTokenizer(preserve_case=True, reduce_len=True)\n",
    "        vect = TfidfVectorizer(max_df=.9, min_df=25,\n",
    "                       strip_accents='unicode', tokenizer=tknzr.tokenize, stop_words=ALL_STOP_WORDS)\n",
    "        sampler_dev = RandomUnderSampler(random_state=50) \n",
    "        xs, ys = vect.fit_transform(df['Tokens'].values), df['Label'].values\n",
    "        x_train, x_dev, y_train, y_dev = train_test_split(xs, ys, train_size=.85,\n",
    "                                                          random_state=42, stratify=ys)\n",
    "        x_dev, y_dev = sampler_dev.fit_resample(x_train, y_train)\n",
    "        return x_dev, y_dev\n",
    "    elif not stopwords and tfidf and not train:\n",
    "        tknzr = TweetTokenizer(preserve_case=True, reduce_len=True)\n",
    "        vect = TfidfVectorizer(max_df=.9, min_df=25,strip_accents='unicode',\n",
    "                               tokenizer=tknzr.tokenize)\n",
    "        sampler_dev = RandomUnderSampler(random_state=50) \n",
    "        xs, ys = vect.fit_transform(df['Tokens'].values), df['Label'].values\n",
    "        x_train, x_dev, y_train, y_dev = train_test_split(xs, ys, train_size=.85,\n",
    "                                                          random_state=42, stratify=ys)\n",
    "        x_dev, y_dev = sampler_dev.fit_resample(x_train, y_train)\n",
    "        return x_dev, y_dev\n",
    "    elif stopwords and not tfidf and not train:\n",
    "        tknzr = TweetTokenizer(preserve_case=True, reduce_len=True)\n",
    "        vect = CountVectorizer(max_df=.9, min_df=25,strip_accents='unicode',\n",
    "                               tokenizer=tknzr.tokenize, stopwords=ALL_STOP_WORDS)\n",
    "        sampler_dev = RandomUnderSampler(random_state=50) \n",
    "        xs, ys = vect.fit_transform(df['Tokens'].values), df['Label'].values\n",
    "        x_train, x_dev, y_train, y_dev = train_test_split(xs, ys, train_size=.85,\n",
    "                                                          random_state=42, stratify=ys)\n",
    "        x_dev, y_dev = sampler_dev.fit_resample(x_train, y_train)\n",
    "        return x_dev, y_dev\n",
    "    else:\n",
    "        tknzr = TweetTokenizer(preserve_case=True, reduce_len=True)\n",
    "        vect = CountVectorizer(max_df=.9, min_df=25,strip_accents='unicode',\n",
    "                               tokenizer=tknzr.tokenize)\n",
    "        sampler_dev = RandomUnderSampler(random_state=50) \n",
    "        xs, ys = vect.fit_transform(df_long['Tokens'].values), df_long['Label'].values\n",
    "        x_train, x_dev, y_train, y_dev = train_test_split(xs, ys, train_size=.85,\n",
    "                                                          random_state=42, stratify=ys)\n",
    "        x_dev, y_dev = sampler_dev.fit_resample(x_train, y_train)\n",
    "        return x_dev, y_dev    \n",
    "\n",
    "\n",
    "        \n",
    "def make_scaled_dataset(df, stopwords=True, tfidf=True, train=True):\n",
    "    '''Same as above function except with added functionality of StandardScalar'''\n",
    "    if stopwords and tfidf and train:\n",
    "        tknzr = TweetTokenizer(preserve_case=True, reduce_len=True)\n",
    "        vect = TfidfVectorizer(max_df=.9, min_df=25, strip_accents='unicode',\n",
    "                               tokenizer=tknzr.tokenize, stop_words=ALL_STOP_WORDS)\n",
    "        sampler_train = RandomUnderSampler(random_state=42) #undersampling  object to rebalance dataset\n",
    "        scalar = StandardScaler(with_mean=False)\n",
    "        xs, ys = scalar.fit_transform(vect.fit_transform(df['Tokens'].values)), df['Label'].values\n",
    "        x_train, x_dev, y_train, y_dev = train_test_split(xs, ys, train_size=.85, #creating train and dev sets with stratified sampling\n",
    "                                                          random_state=42, stratify=ys) \n",
    "        x_train, y_train = sampler_train.fit_resample(x_train, y_train) \n",
    "        return x_train, y_train\n",
    "    elif stopwords and tfidf and not train:\n",
    "        tknzr = TweetTokenizer(preserve_case=True, reduce_len=True)\n",
    "        vect = TfidfVectorizer(max_df=.9, min_df=25, strip_accents='unicode',\n",
    "                               tokenizer=tknzr.tokenize, stop_words=ALL_STOP_WORDS)\n",
    "        sampler_train = RandomUnderSampler(random_state=42) #undersampling  object to rebalance dataset\n",
    "        scalar = StandardScaler(with_mean=False)\n",
    "        xs, ys = scalar.fit_transform(vect.fit_transform(df['Tokens'].values)), df['Label'].values\n",
    "        x_train, x_dev, y_train, y_dev = train_test_split(xs, ys, train_size=.85, #creating train and dev sets with stratified sampling\n",
    "                                                          random_state=42, stratify=ys) \n",
    "        x_dev, y_dev = sampler_train.fit_resample(x_train, y_train) \n",
    "        return x_dev, y_dev        \n"
   ]
  },
  {
   "cell_type": "code",
   "execution_count": 42,
   "metadata": {
    "tags": []
   },
   "outputs": [
    {
     "name": "stderr",
     "output_type": "stream",
     "text": [
      "/Users/chengyiyang/opt/anaconda3/lib/python3.8/site-packages/sklearn/feature_extraction/text.py:383: UserWarning: Your stop_words may be inconsistent with your preprocessing. Tokenizing the stop words generated tokens ['&', \"'\", 'n', '‘', '’'] not in stop_words.\n",
      "  warnings.warn('Your stop_words may be inconsistent with '\n",
      "/Users/chengyiyang/opt/anaconda3/lib/python3.8/site-packages/sklearn/feature_extraction/text.py:383: UserWarning: Your stop_words may be inconsistent with your preprocessing. Tokenizing the stop words generated tokens ['&', \"'\", 'n', '‘', '’'] not in stop_words.\n",
      "  warnings.warn('Your stop_words may be inconsistent with '\n",
      "/Users/chengyiyang/opt/anaconda3/lib/python3.8/site-packages/sklearn/feature_extraction/text.py:383: UserWarning: Your stop_words may be inconsistent with your preprocessing. Tokenizing the stop words generated tokens ['&', \"'\", 'n', '‘', '’'] not in stop_words.\n",
      "  warnings.warn('Your stop_words may be inconsistent with '\n",
      "/Users/chengyiyang/opt/anaconda3/lib/python3.8/site-packages/sklearn/feature_extraction/text.py:383: UserWarning: Your stop_words may be inconsistent with your preprocessing. Tokenizing the stop words generated tokens ['&', \"'\", 'n', '‘', '’'] not in stop_words.\n",
      "  warnings.warn('Your stop_words may be inconsistent with '\n"
     ]
    },
    {
     "name": "stdout",
     "output_type": "stream",
     "text": [
      "<class 'tuple'> (<12750x1454 sparse matrix of type '<class 'numpy.float64'>'\n",
      "\twith 63969 stored elements in Compressed Sparse Row format>, array([0, 0, 0, ..., 1, 1, 1]))\n",
      "<class 'scipy.sparse.csr.csr_matrix'>\n",
      "<class 'scipy.sparse.csr.csr_matrix'>\n",
      "<class 'tuple'> (<12750x1454 sparse matrix of type '<class 'numpy.float64'>'\n",
      "\twith 63969 stored elements in Compressed Sparse Row format>, array([0, 0, 0, ..., 1, 1, 1]))\n"
     ]
    }
   ],
   "source": [
    "#all_param_train = Dataset(df_long)\n",
    "#no_param_train = Dataset(df_long, stopwords=False, tfidf=False, train=True)\n",
    "#train_set = all_param_train.make_dataset()\n",
    "#print(train_set[0:10])\n",
    "\n",
    "#print(type(no_param_train.make_dataset()))\n",
    "\n",
    "all_param_train = make_dataset(df_long)\n",
    "all_param_scaled_train = make_scaled_dataset(df_long)\n",
    "all_param_scaled_dev = make_scaled_dataset(df_long, train=False)\n",
    "all_param_dev = make_dataset(df_long, train=False)\n",
    "no_param_train = make_dataset(df_long, stopwords=False, tfidf=False)\n",
    "no_param_dev = make_dataset(df_long, stopwords=False, tfidf=False, train=False)\n",
    "print(type(all_param_train), all_param_train)\n",
    "print(type(all_param_dev[0]))\n",
    "print(type(no_param_dev[0]))\n",
    "print(type(all_param_scaled_train), all_param_scaled_train)"
   ]
  },
  {
   "cell_type": "code",
   "execution_count": 36,
   "metadata": {},
   "outputs": [],
   "source": [
    "from sklearn.linear_model import SGDClassifier\n",
    "from sklearn.metrics import classification_report\n",
    "\n",
    "        "
   ]
  },
  {
   "cell_type": "code",
   "execution_count": 44,
   "metadata": {},
   "outputs": [],
   "source": [
    "class ClassifierBot():\n",
    "    \n",
    "    def __init__(self, trainset, devset, bot):\n",
    "        self.train = trainset\n",
    "        self.dev = devset\n",
    "        self.bot = bot\n",
    "        \n",
    "    def classify(self):\n",
    "        self.bot.fit(self.train[0], self.train[1])\n",
    "        self.prediction = self.bot.predict(self.dev[0])\n",
    "        return classification_report(self.dev[1], self.prediction)\n",
    "        \n"
   ]
  },
  {
   "cell_type": "code",
   "execution_count": 14,
   "metadata": {},
   "outputs": [
    {
     "name": "stdout",
     "output_type": "stream",
     "text": [
      "              precision    recall  f1-score   support\n",
      "\n",
      "           0       0.75      0.84      0.79      6375\n",
      "           1       0.82      0.72      0.77      6375\n",
      "\n",
      "    accuracy                           0.78     12750\n",
      "   macro avg       0.79      0.78      0.78     12750\n",
      "weighted avg       0.79      0.78      0.78     12750\n",
      "\n",
      "              precision    recall  f1-score   support\n",
      "\n",
      "           0       0.77      0.85      0.80      6375\n",
      "           1       0.83      0.74      0.78      6375\n",
      "\n",
      "    accuracy                           0.79     12750\n",
      "   macro avg       0.80      0.79      0.79     12750\n",
      "weighted avg       0.80      0.79      0.79     12750\n",
      "\n",
      "SGDClassifier()\n",
      "<__main__.ClassifierBot object at 0x7fb54ac0fa30>\n"
     ]
    }
   ],
   "source": [
    "#SGDclassifier without Gridsearch\n",
    "sgd_clf = SGDClassifier()\n",
    "bot1 = ClassifierBot(all_param_train, all_param_dev, sgd_clf)\n",
    "bot_no_params = ClassifierBot(no_param_train, no_param_dev, sgd_clf)\n",
    "print(bot1.classify())\n",
    "print(bot_no_params.classify())\n",
    "print(sgd_clf)\n",
    "print(bot1)"
   ]
  },
  {
   "cell_type": "code",
   "execution_count": 45,
   "metadata": {},
   "outputs": [
    {
     "name": "stderr",
     "output_type": "stream",
     "text": [
      "/Users/chengyiyang/opt/anaconda3/lib/python3.8/site-packages/sklearn/metrics/_classification.py:1221: UndefinedMetricWarning: Precision and F-score are ill-defined and being set to 0.0 in labels with no predicted samples. Use `zero_division` parameter to control this behavior.\n",
      "  _warn_prf(average, modifier, msg_start, len(result))\n"
     ]
    },
    {
     "name": "stdout",
     "output_type": "stream",
     "text": [
      "              precision    recall  f1-score   support\n",
      "\n",
      "           0       0.50      1.00      0.67      6375\n",
      "           1       0.00      0.00      0.00      6375\n",
      "\n",
      "    accuracy                           0.50     12750\n",
      "   macro avg       0.25      0.50      0.33     12750\n",
      "weighted avg       0.25      0.50      0.33     12750\n",
      "\n",
      "              precision    recall  f1-score   support\n",
      "\n",
      "           0       0.99      0.78      0.87      6375\n",
      "           1       0.82      0.99      0.90      6375\n",
      "\n",
      "    accuracy                           0.89     12750\n",
      "   macro avg       0.90      0.89      0.88     12750\n",
      "weighted avg       0.90      0.89      0.88     12750\n",
      "\n",
      "              precision    recall  f1-score   support\n",
      "\n",
      "           0       0.96      0.99      0.98      6375\n",
      "           1       0.99      0.96      0.97      6375\n",
      "\n",
      "    accuracy                           0.97     12750\n",
      "   macro avg       0.98      0.97      0.97     12750\n",
      "weighted avg       0.98      0.97      0.97     12750\n",
      "\n"
     ]
    }
   ],
   "source": [
    "#Neural Network classifier without Gridsearch\n",
    "\n",
    "from sklearn.neural_network import MLPClassifier\n",
    "neural_ntwk = MLPClassifier(solver='adam', alpha=1e-5,hidden_layer_sizes=(10,30,10,5), random_state=1,batch_size=128,max_iter=400)\n",
    "neural_bot_all_params = ClassifierBot(all_param_train, all_param_dev, neural_ntwk)\n",
    "neural_bot_params_scaled = ClassifierBot(all_param_scaled_train, all_param_scaled_dev, neural_ntwk)\n",
    "neural_bot_no_params = ClassifierBot(no_param_train, no_param_dev, neural_ntwk)\n",
    "print(neural_bot_all_params.classify())\n",
    "print(neural_bot_no_params.classify())\n",
    "print(neural_bot_params_scaled.classify())"
   ]
  },
  {
   "cell_type": "code",
   "execution_count": 52,
   "metadata": {},
   "outputs": [
    {
     "name": "stdout",
     "output_type": "stream",
     "text": [
      "12750\n",
      "2\n",
      "[0 1]\n"
     ]
    },
    {
     "name": "stderr",
     "output_type": "stream",
     "text": [
      "/Users/chengyiyang/opt/anaconda3/lib/python3.8/site-packages/numpy/core/_asarray.py:136: VisibleDeprecationWarning: Creating an ndarray from ragged nested sequences (which is a list-or-tuple of lists-or-tuples-or ndarrays with different lengths or shapes) is deprecated. If you meant to do this, you must specify 'dtype=object' when creating the ndarray\n",
      "  return array(a, dtype, copy=False, order=order, subok=True)\n"
     ]
    },
    {
     "ename": "ValueError",
     "evalue": "operands could not be broadcast together with shapes (12750,1454) (12750,) ",
     "output_type": "error",
     "traceback": [
      "\u001b[0;31m---------------------------------------------------------------------------\u001b[0m",
      "\u001b[0;31mValueError\u001b[0m                                Traceback (most recent call last)",
      "\u001b[0;32m<ipython-input-52-f973fddfed96>\u001b[0m in \u001b[0;36m<module>\u001b[0;34m\u001b[0m\n\u001b[1;32m      4\u001b[0m \u001b[0mprint\u001b[0m\u001b[0;34m(\u001b[0m\u001b[0mlen\u001b[0m\u001b[0;34m(\u001b[0m\u001b[0mnp\u001b[0m\u001b[0;34m.\u001b[0m\u001b[0munique\u001b[0m\u001b[0;34m(\u001b[0m\u001b[0mneural_bot_params_scaled\u001b[0m\u001b[0;34m.\u001b[0m\u001b[0mprediction\u001b[0m\u001b[0;34m)\u001b[0m\u001b[0;34m)\u001b[0m\u001b[0;34m)\u001b[0m\u001b[0;34m\u001b[0m\u001b[0;34m\u001b[0m\u001b[0m\n\u001b[1;32m      5\u001b[0m \u001b[0mprint\u001b[0m\u001b[0;34m(\u001b[0m\u001b[0mnp\u001b[0m\u001b[0;34m.\u001b[0m\u001b[0munique\u001b[0m\u001b[0;34m(\u001b[0m\u001b[0mprediction\u001b[0m\u001b[0;34m)\u001b[0m\u001b[0;34m)\u001b[0m\u001b[0;34m\u001b[0m\u001b[0;34m\u001b[0m\u001b[0m\n\u001b[0;32m----> 6\u001b[0;31m \u001b[0mprint\u001b[0m\u001b[0;34m(\u001b[0m\u001b[0mnp\u001b[0m\u001b[0;34m.\u001b[0m\u001b[0munique\u001b[0m\u001b[0;34m(\u001b[0m\u001b[0my_hat\u001b[0m\u001b[0;34m)\u001b[0m\u001b[0;34m)\u001b[0m\u001b[0;34m\u001b[0m\u001b[0;34m\u001b[0m\u001b[0m\n\u001b[0m",
      "\u001b[0;32m<__array_function__ internals>\u001b[0m in \u001b[0;36munique\u001b[0;34m(*args, **kwargs)\u001b[0m\n",
      "\u001b[0;32m~/opt/anaconda3/lib/python3.8/site-packages/numpy/lib/arraysetops.py\u001b[0m in \u001b[0;36munique\u001b[0;34m(ar, return_index, return_inverse, return_counts, axis)\u001b[0m\n\u001b[1;32m    259\u001b[0m     \u001b[0mar\u001b[0m \u001b[0;34m=\u001b[0m \u001b[0mnp\u001b[0m\u001b[0;34m.\u001b[0m\u001b[0masanyarray\u001b[0m\u001b[0;34m(\u001b[0m\u001b[0mar\u001b[0m\u001b[0;34m)\u001b[0m\u001b[0;34m\u001b[0m\u001b[0;34m\u001b[0m\u001b[0m\n\u001b[1;32m    260\u001b[0m     \u001b[0;32mif\u001b[0m \u001b[0maxis\u001b[0m \u001b[0;32mis\u001b[0m \u001b[0;32mNone\u001b[0m\u001b[0;34m:\u001b[0m\u001b[0;34m\u001b[0m\u001b[0;34m\u001b[0m\u001b[0m\n\u001b[0;32m--> 261\u001b[0;31m         \u001b[0mret\u001b[0m \u001b[0;34m=\u001b[0m \u001b[0m_unique1d\u001b[0m\u001b[0;34m(\u001b[0m\u001b[0mar\u001b[0m\u001b[0;34m,\u001b[0m \u001b[0mreturn_index\u001b[0m\u001b[0;34m,\u001b[0m \u001b[0mreturn_inverse\u001b[0m\u001b[0;34m,\u001b[0m \u001b[0mreturn_counts\u001b[0m\u001b[0;34m)\u001b[0m\u001b[0;34m\u001b[0m\u001b[0;34m\u001b[0m\u001b[0m\n\u001b[0m\u001b[1;32m    262\u001b[0m         \u001b[0;32mreturn\u001b[0m \u001b[0m_unpack_tuple\u001b[0m\u001b[0;34m(\u001b[0m\u001b[0mret\u001b[0m\u001b[0;34m)\u001b[0m\u001b[0;34m\u001b[0m\u001b[0;34m\u001b[0m\u001b[0m\n\u001b[1;32m    263\u001b[0m \u001b[0;34m\u001b[0m\u001b[0m\n",
      "\u001b[0;32m~/opt/anaconda3/lib/python3.8/site-packages/numpy/lib/arraysetops.py\u001b[0m in \u001b[0;36m_unique1d\u001b[0;34m(ar, return_index, return_inverse, return_counts)\u001b[0m\n\u001b[1;32m    320\u001b[0m         \u001b[0maux\u001b[0m \u001b[0;34m=\u001b[0m \u001b[0mar\u001b[0m\u001b[0;34m[\u001b[0m\u001b[0mperm\u001b[0m\u001b[0;34m]\u001b[0m\u001b[0;34m\u001b[0m\u001b[0;34m\u001b[0m\u001b[0m\n\u001b[1;32m    321\u001b[0m     \u001b[0;32melse\u001b[0m\u001b[0;34m:\u001b[0m\u001b[0;34m\u001b[0m\u001b[0;34m\u001b[0m\u001b[0m\n\u001b[0;32m--> 322\u001b[0;31m         \u001b[0mar\u001b[0m\u001b[0;34m.\u001b[0m\u001b[0msort\u001b[0m\u001b[0;34m(\u001b[0m\u001b[0;34m)\u001b[0m\u001b[0;34m\u001b[0m\u001b[0;34m\u001b[0m\u001b[0m\n\u001b[0m\u001b[1;32m    323\u001b[0m         \u001b[0maux\u001b[0m \u001b[0;34m=\u001b[0m \u001b[0mar\u001b[0m\u001b[0;34m\u001b[0m\u001b[0;34m\u001b[0m\u001b[0m\n\u001b[1;32m    324\u001b[0m     \u001b[0mmask\u001b[0m \u001b[0;34m=\u001b[0m \u001b[0mnp\u001b[0m\u001b[0;34m.\u001b[0m\u001b[0mempty\u001b[0m\u001b[0;34m(\u001b[0m\u001b[0maux\u001b[0m\u001b[0;34m.\u001b[0m\u001b[0mshape\u001b[0m\u001b[0;34m,\u001b[0m \u001b[0mdtype\u001b[0m\u001b[0;34m=\u001b[0m\u001b[0mnp\u001b[0m\u001b[0;34m.\u001b[0m\u001b[0mbool_\u001b[0m\u001b[0;34m)\u001b[0m\u001b[0;34m\u001b[0m\u001b[0;34m\u001b[0m\u001b[0m\n",
      "\u001b[0;32m~/opt/anaconda3/lib/python3.8/site-packages/scipy/sparse/compressed.py\u001b[0m in \u001b[0;36m__gt__\u001b[0;34m(self, other)\u001b[0m\n\u001b[1;32m    323\u001b[0m \u001b[0;34m\u001b[0m\u001b[0m\n\u001b[1;32m    324\u001b[0m     \u001b[0;32mdef\u001b[0m \u001b[0m__gt__\u001b[0m\u001b[0;34m(\u001b[0m\u001b[0mself\u001b[0m\u001b[0;34m,\u001b[0m \u001b[0mother\u001b[0m\u001b[0;34m)\u001b[0m\u001b[0;34m:\u001b[0m\u001b[0;34m\u001b[0m\u001b[0;34m\u001b[0m\u001b[0m\n\u001b[0;32m--> 325\u001b[0;31m         return self._inequality(other, operator.gt, '_gt_',\n\u001b[0m\u001b[1;32m    326\u001b[0m                                 \u001b[0;34m\"Comparing a sparse matrix with a scalar \"\u001b[0m\u001b[0;34m\u001b[0m\u001b[0;34m\u001b[0m\u001b[0m\n\u001b[1;32m    327\u001b[0m                                 \u001b[0;34m\"less than zero using > is inefficient, \"\u001b[0m\u001b[0;34m\u001b[0m\u001b[0;34m\u001b[0m\u001b[0m\n",
      "\u001b[0;32m~/opt/anaconda3/lib/python3.8/site-packages/scipy/sparse/compressed.py\u001b[0m in \u001b[0;36m_inequality\u001b[0;34m(self, other, op, op_name, bad_scalar_msg)\u001b[0m\n\u001b[1;32m    297\u001b[0m         \u001b[0;31m# Dense other.\u001b[0m\u001b[0;34m\u001b[0m\u001b[0;34m\u001b[0m\u001b[0;34m\u001b[0m\u001b[0m\n\u001b[1;32m    298\u001b[0m         \u001b[0;32melif\u001b[0m \u001b[0misdense\u001b[0m\u001b[0;34m(\u001b[0m\u001b[0mother\u001b[0m\u001b[0;34m)\u001b[0m\u001b[0;34m:\u001b[0m\u001b[0;34m\u001b[0m\u001b[0;34m\u001b[0m\u001b[0m\n\u001b[0;32m--> 299\u001b[0;31m             \u001b[0;32mreturn\u001b[0m \u001b[0mop\u001b[0m\u001b[0;34m(\u001b[0m\u001b[0mself\u001b[0m\u001b[0;34m.\u001b[0m\u001b[0mtodense\u001b[0m\u001b[0;34m(\u001b[0m\u001b[0;34m)\u001b[0m\u001b[0;34m,\u001b[0m \u001b[0mother\u001b[0m\u001b[0;34m)\u001b[0m\u001b[0;34m\u001b[0m\u001b[0;34m\u001b[0m\u001b[0m\n\u001b[0m\u001b[1;32m    300\u001b[0m         \u001b[0;31m# Sparse other.\u001b[0m\u001b[0;34m\u001b[0m\u001b[0;34m\u001b[0m\u001b[0;34m\u001b[0m\u001b[0m\n\u001b[1;32m    301\u001b[0m         \u001b[0;32melif\u001b[0m \u001b[0misspmatrix\u001b[0m\u001b[0;34m(\u001b[0m\u001b[0mother\u001b[0m\u001b[0;34m)\u001b[0m\u001b[0;34m:\u001b[0m\u001b[0;34m\u001b[0m\u001b[0;34m\u001b[0m\u001b[0m\n",
      "\u001b[0;31mValueError\u001b[0m: operands could not be broadcast together with shapes (12750,1454) (12750,) "
     ]
    }
   ],
   "source": [
    "prediction = neural_bot_params_scaled.prediction\n",
    "y_hat = neural_bot_params_scaled.dev\n",
    "print(len(neural_bot_params_scaled.prediction))\n",
    "print(len(np.unique(neural_bot_params_scaled.prediction)))\n",
    "print(np.unique(prediction))\n",
    "print(np.unique(y_hat))"
   ]
  },
  {
   "cell_type": "code",
   "execution_count": 18,
   "metadata": {},
   "outputs": [
    {
     "name": "stdout",
     "output_type": "stream",
     "text": [
      "              precision    recall  f1-score   support\n",
      "\n",
      "           0       0.87      0.88      0.87      6375\n",
      "           1       0.88      0.87      0.87      6375\n",
      "\n",
      "    accuracy                           0.87     12750\n",
      "   macro avg       0.87      0.87      0.87     12750\n",
      "weighted avg       0.87      0.87      0.87     12750\n",
      "\n",
      "              precision    recall  f1-score   support\n",
      "\n",
      "           0       0.81      0.87      0.84      6375\n",
      "           1       0.86      0.79      0.82      6375\n",
      "\n",
      "    accuracy                           0.83     12750\n",
      "   macro avg       0.83      0.83      0.83     12750\n",
      "weighted avg       0.83      0.83      0.83     12750\n",
      "\n"
     ]
    }
   ],
   "source": [
    "#Support Vector Classifier without Gridsearch\n",
    "from sklearn.svm import SVC\n",
    "\n",
    "svc_clf = SVC()\n",
    "svc_bot_all_params = ClassifierBot(all_param_train, all_param_dev, svc_clf)\n",
    "svc_bot_no_params = ClassifierBot(no_param_train, no_param_dev, svc_clf)\n",
    "print(svc_bot_all_params.classify())\n",
    "print(svc_bot_no_params.classify())"
   ]
  },
  {
   "cell_type": "code",
   "execution_count": 21,
   "metadata": {},
   "outputs": [
    {
     "name": "stdout",
     "output_type": "stream",
     "text": [
      "              precision    recall  f1-score   support\n",
      "\n",
      "           0       0.96      0.87      0.91      6375\n",
      "           1       0.88      0.96      0.92      6375\n",
      "\n",
      "    accuracy                           0.92     12750\n",
      "   macro avg       0.92      0.92      0.92     12750\n",
      "weighted avg       0.92      0.92      0.92     12750\n",
      "\n",
      "              precision    recall  f1-score   support\n",
      "\n",
      "           0       1.00      0.89      0.94      6375\n",
      "           1       0.90      1.00      0.95      6375\n",
      "\n",
      "    accuracy                           0.94     12750\n",
      "   macro avg       0.95      0.94      0.94     12750\n",
      "weighted avg       0.95      0.94      0.94     12750\n",
      "\n"
     ]
    }
   ],
   "source": [
    "#RandomForestClassifier without Gridsearch\n",
    "\n",
    "from sklearn.ensemble import RandomForestClassifier\n",
    "\n",
    "forest = RandomForestClassifier()\n",
    "forest_bot_all_params = ClassifierBot(all_param_train, all_param_dev, forest)\n",
    "forest_bot_no_params = ClassifierBot(no_param_train, no_param_dev, forest)\n",
    "print(forest_bot_all_params.classify())\n",
    "print(forest_bot_no_params.classify())"
   ]
  },
  {
   "cell_type": "code",
   "execution_count": 46,
   "metadata": {},
   "outputs": [],
   "source": [
    "#classification report\n",
    "from sklearn.metrics import accuracy_score,recall_score,precision_score,recall_score,f1_score\n",
    "import warnings\n",
    "warnings.filterwarnings('ignore')\n",
    "\n",
    "def report(prediction, real_labels, data):\n",
    "    print(\"classification report as follows: \")\n",
    "    print(f'   Accuracy: {accuracy_score(prediction, real_labels)}')\n",
    "    print(f'   Precision: {precision_score(prediction, real_labels,average=\"macro\")}')\n",
    "    print(f'   recall: {recall_score(prediction, real_labels,average=\"macro\")}')\n",
    "    print(f'   F1 measure: {f1_score(prediction, real_labels,average=\"macro\")}')\n",
    "    print('Show 5 example of correctly classified datapoint: ')\n",
    "    if data[prediction==real_labels].shape[0] > 5:\n",
    "        display(data[prediction==real_labels].iloc[:5,:])\n",
    "    else:\n",
    "        display(data[prediction==real_labels])\n",
    "    print('Show 5 example of wrongly classified datapoint: ')\n",
    "    if data[prediction!=real_labels].shape[0] > 5:\n",
    "        display(data[prediction!=real_labels].iloc[:5,:])\n",
    "    else:\n",
    "        display(data[prediction!=real_labels])"
   ]
  },
  {
   "cell_type": "code",
   "execution_count": 132,
   "metadata": {},
   "outputs": [
    {
     "name": "stdout",
     "output_type": "stream",
     "text": [
      "classification report as follows: \n",
      "   Accuracy: 0.8168943476626144\n",
      "   Precision: 0.7084592624109877\n",
      "   recall: 0.7811589138333501\n",
      "   F1 measure: 0.7309291098045785\n",
      "Show 5 example of correctly classified datapoint: \n"
     ]
    },
    {
     "data": {
      "text/html": [
       "<div>\n",
       "<style scoped>\n",
       "    .dataframe tbody tr th:only-of-type {\n",
       "        vertical-align: middle;\n",
       "    }\n",
       "\n",
       "    .dataframe tbody tr th {\n",
       "        vertical-align: top;\n",
       "    }\n",
       "\n",
       "    .dataframe thead th {\n",
       "        text-align: right;\n",
       "    }\n",
       "</style>\n",
       "<table border=\"1\" class=\"dataframe\">\n",
       "  <thead>\n",
       "    <tr style=\"text-align: right;\">\n",
       "      <th></th>\n",
       "      <th>Tokens</th>\n",
       "      <th>Label</th>\n",
       "    </tr>\n",
       "  </thead>\n",
       "  <tbody>\n",
       "    <tr>\n",
       "      <th>23121</th>\n",
       "      <td>rt strategic vote kat food truly awful #mkr</td>\n",
       "      <td>0</td>\n",
       "    </tr>\n",
       "    <tr>\n",
       "      <th>35928</th>\n",
       "      <td>pancakes proof deity love us #mkr</td>\n",
       "      <td>0</td>\n",
       "    </tr>\n",
       "    <tr>\n",
       "      <th>45316</th>\n",
       "      <td>sick see fuck asshole bitch make chain latters...</td>\n",
       "      <td>1</td>\n",
       "    </tr>\n",
       "    <tr>\n",
       "      <th>42230</th>\n",
       "      <td>i'm try get insight trans issue definitely gro...</td>\n",
       "      <td>0</td>\n",
       "    </tr>\n",
       "    <tr>\n",
       "      <th>40128</th>\n",
       "      <td>make</td>\n",
       "      <td>0</td>\n",
       "    </tr>\n",
       "  </tbody>\n",
       "</table>\n",
       "</div>"
      ],
      "text/plain": [
       "                                                  Tokens  Label\n",
       "23121        rt strategic vote kat food truly awful #mkr      0\n",
       "35928                  pancakes proof deity love us #mkr      0\n",
       "45316  sick see fuck asshole bitch make chain latters...      1\n",
       "42230  i'm try get insight trans issue definitely gro...      0\n",
       "40128                                               make      0"
      ]
     },
     "metadata": {},
     "output_type": "display_data"
    },
    {
     "name": "stdout",
     "output_type": "stream",
     "text": [
      "Show 5 example of wrongly classified datapoint: \n"
     ]
    },
    {
     "data": {
      "text/html": [
       "<div>\n",
       "<style scoped>\n",
       "    .dataframe tbody tr th:only-of-type {\n",
       "        vertical-align: middle;\n",
       "    }\n",
       "\n",
       "    .dataframe tbody tr th {\n",
       "        vertical-align: top;\n",
       "    }\n",
       "\n",
       "    .dataframe thead th {\n",
       "        text-align: right;\n",
       "    }\n",
       "</style>\n",
       "<table border=\"1\" class=\"dataframe\">\n",
       "  <thead>\n",
       "    <tr style=\"text-align: right;\">\n",
       "      <th></th>\n",
       "      <th>Tokens</th>\n",
       "      <th>Label</th>\n",
       "    </tr>\n",
       "  </thead>\n",
       "  <tbody>\n",
       "    <tr>\n",
       "      <th>48658</th>\n",
       "      <td>lol ralph guy still moi era</td>\n",
       "      <td>1</td>\n",
       "    </tr>\n",
       "    <tr>\n",
       "      <th>30437</th>\n",
       "      <td>kill muslims oppose kill ezidis christians non...</td>\n",
       "      <td>0</td>\n",
       "    </tr>\n",
       "    <tr>\n",
       "      <th>28396</th>\n",
       "      <td>single men cannot adopt</td>\n",
       "      <td>1</td>\n",
       "    </tr>\n",
       "    <tr>\n",
       "      <th>44924</th>\n",
       "      <td>muslim brotherhood usa hundred years liken say...</td>\n",
       "      <td>0</td>\n",
       "    </tr>\n",
       "    <tr>\n",
       "      <th>7346</th>\n",
       "      <td>rt #mosul christian pastor #paul_jacob sentenc...</td>\n",
       "      <td>1</td>\n",
       "    </tr>\n",
       "  </tbody>\n",
       "</table>\n",
       "</div>"
      ],
      "text/plain": [
       "                                                  Tokens  Label\n",
       "48658                        lol ralph guy still moi era      1\n",
       "30437  kill muslims oppose kill ezidis christians non...      0\n",
       "28396                            single men cannot adopt      1\n",
       "44924  muslim brotherhood usa hundred years liken say...      0\n",
       "7346   rt #mosul christian pastor #paul_jacob sentenc...      1"
      ]
     },
     "metadata": {},
     "output_type": "display_data"
    }
   ],
   "source": [
    "val_x = vectorizer.transform(validation_set['Tokens'])\n",
    "val_x = transformer.transform(val_x)\n",
    "\n",
    "predict = ntwk.predict(val_x)\n",
    "report(predict, validation_set['label'], validation_set[['Tokens','Label']])"
   ]
  }
 ],
 "metadata": {
  "kernelspec": {
   "display_name": "Python 3",
   "language": "python",
   "name": "python3"
  },
  "language_info": {
   "codemirror_mode": {
    "name": "ipython",
    "version": 3
   },
   "file_extension": ".py",
   "mimetype": "text/x-python",
   "name": "python",
   "nbconvert_exporter": "python",
   "pygments_lexer": "ipython3",
   "version": "3.8.5"
  }
 },
 "nbformat": 4,
 "nbformat_minor": 4
}
