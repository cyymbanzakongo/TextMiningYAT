{
 "cells": [
  {
   "cell_type": "code",
   "execution_count": 18,
   "metadata": {},
   "outputs": [],
   "source": [
    "import pandas as pd\n",
    "df_r = pd.read_csv('8000ethnicity.txt', delimiter = \"\\t\", header=None)\n",
    "df_s = pd.read_csv('8000gender.txt', delimiter = \"\\t\", header=None)\n",
    "df = pd.concat([df_r, df_s])\n",
    "df.columns = ['Tweet']\n",
    "df = df.sample(frac=1).reset_index(drop=True) #randomising rows"
   ]
  },
  {
   "cell_type": "code",
   "execution_count": 19,
   "metadata": {},
   "outputs": [
    {
     "data": {
      "text/html": [
       "<div>\n",
       "<style scoped>\n",
       "    .dataframe tbody tr th:only-of-type {\n",
       "        vertical-align: middle;\n",
       "    }\n",
       "\n",
       "    .dataframe tbody tr th {\n",
       "        vertical-align: top;\n",
       "    }\n",
       "\n",
       "    .dataframe thead th {\n",
       "        text-align: right;\n",
       "    }\n",
       "</style>\n",
       "<table border=\"1\" class=\"dataframe\">\n",
       "  <thead>\n",
       "    <tr style=\"text-align: right;\">\n",
       "      <th></th>\n",
       "      <th>Tweet</th>\n",
       "    </tr>\n",
       "  </thead>\n",
       "  <tbody>\n",
       "    <tr>\n",
       "      <th>0</th>\n",
       "      <td>RT @B_Willy2013 Any real man knows, that being...</td>\n",
       "    </tr>\n",
       "    <tr>\n",
       "      <th>1</th>\n",
       "      <td>If a white man called me, a black woman, a neg...</td>\n",
       "    </tr>\n",
       "    <tr>\n",
       "      <th>2</th>\n",
       "      <td>to the white gay man who made a rape joke, of ...</td>\n",
       "    </tr>\n",
       "    <tr>\n",
       "      <th>3</th>\n",
       "      <td>lmfao you call my brother a \"nigger\" , but the...</td>\n",
       "    </tr>\n",
       "    <tr>\n",
       "      <th>4</th>\n",
       "      <td>dumb nigger stop stealing other people's ideas...</td>\n",
       "    </tr>\n",
       "    <tr>\n",
       "      <th>...</th>\n",
       "      <td>...</td>\n",
       "    </tr>\n",
       "    <tr>\n",
       "      <th>15929</th>\n",
       "      <td>Whether it's a guy using \"gay\" as a negative, ...</td>\n",
       "    </tr>\n",
       "    <tr>\n",
       "      <th>15930</th>\n",
       "      <td>I love the groove/sampling/inventiveness/vocal...</td>\n",
       "    </tr>\n",
       "    <tr>\n",
       "      <th>15931</th>\n",
       "      <td>THE FUCK? Don't wish dumb shit on me nigger.</td>\n",
       "    </tr>\n",
       "    <tr>\n",
       "      <th>15932</th>\n",
       "      <td>RT @pauleldridge2 I'm not sexist but I can not...</td>\n",
       "    </tr>\n",
       "    <tr>\n",
       "      <th>15933</th>\n",
       "      <td>first of all, one of them is irish how dare yo...</td>\n",
       "    </tr>\n",
       "  </tbody>\n",
       "</table>\n",
       "<p>15934 rows × 1 columns</p>\n",
       "</div>"
      ],
      "text/plain": [
       "                                                   Tweet\n",
       "0      RT @B_Willy2013 Any real man knows, that being...\n",
       "1      If a white man called me, a black woman, a neg...\n",
       "2      to the white gay man who made a rape joke, of ...\n",
       "3      lmfao you call my brother a \"nigger\" , but the...\n",
       "4      dumb nigger stop stealing other people's ideas...\n",
       "...                                                  ...\n",
       "15929  Whether it's a guy using \"gay\" as a negative, ...\n",
       "15930  I love the groove/sampling/inventiveness/vocal...\n",
       "15931       THE FUCK? Don't wish dumb shit on me nigger.\n",
       "15932  RT @pauleldridge2 I'm not sexist but I can not...\n",
       "15933  first of all, one of them is irish how dare yo...\n",
       "\n",
       "[15934 rows x 1 columns]"
      ]
     },
     "execution_count": 19,
     "metadata": {},
     "output_type": "execute_result"
    }
   ],
   "source": [
    "df"
   ]
  },
  {
   "cell_type": "code",
   "execution_count": 20,
   "metadata": {},
   "outputs": [],
   "source": [
    "tweets = df['Tweet'].tolist()"
   ]
  },
  {
   "cell_type": "code",
   "execution_count": 32,
   "metadata": {},
   "outputs": [],
   "source": [
    "from nltk.tokenize import TweetTokenizer #I chose to tokenize with this, as it gets rid of @ handlers\n",
    "tknzr = TweetTokenizer(preserve_case=True, reduce_len=False, strip_handles=True)\n",
    "\n",
    "lst = []\n",
    "\n",
    "for tweet in tweets:    \n",
    "    if type(tweet) != str: #removing tweets that are not 'tokenizable'\n",
    "        pass\n",
    "    else:\n",
    "        lst.append(tknzr.tokenize(tweet))"
   ]
  },
  {
   "cell_type": "code",
   "execution_count": 55,
   "metadata": {},
   "outputs": [],
   "source": [
    "import nltk\n",
    "from nltk.corpus import stopwords\n",
    "stop_words = nltk.corpus.stopwords.words('english')\n",
    "from nltk.tokenize import RegexpTokenizer\n",
    "from nltk.stem import PorterStemmer \n",
    "ps = PorterStemmer() \n",
    "\n",
    "remove = \"!$%&()*+, .-./:;<=>?@[\\]^_`{|}~]\\wdiwj/'0123456789......\\\"\\x92\\\\n\\r\\“\\”\""
   ]
  },
  {
   "cell_type": "code",
   "execution_count": 83,
   "metadata": {},
   "outputs": [],
   "source": [
    "ft_infinitive = [] #filtered tokens with verbs in infinitive tense\n",
    "for tweet in lst:\n",
    "    filt = []\n",
    "    for token in tweet:\n",
    "        if 'http' in token.lower():\n",
    "            continue\n",
    "        if token.lower() in remove:\n",
    "            continue\n",
    "        if token.lower() in stop_words:\n",
    "            continue\n",
    "        else:\n",
    "            filt.append((nltk.WordNetLemmatizer().lemmatize(token.lower(), 'v')))\n",
    "    ft_infinitive.append(filt)"
   ]
  },
  {
   "cell_type": "code",
   "execution_count": 64,
   "metadata": {},
   "outputs": [],
   "source": [
    "ft_finite = [] #filtered tokens with verbs in finite tense\n",
    "for tweet in lst:\n",
    "    filt = []\n",
    "    for token in tweet:\n",
    "        if 'http' in token.lower():\n",
    "            continue\n",
    "        if token.lower() in remove:\n",
    "            continue\n",
    "        if token.lower() in stop_words:\n",
    "            continue\n",
    "        else:\n",
    "            filt.append((nltk.WordNetLemmatizer().lemmatize(token.lower())))\n",
    "    ft_finite.append(filt)"
   ]
  },
  {
   "cell_type": "code",
   "execution_count": 129,
   "metadata": {},
   "outputs": [],
   "source": [
    "df = pd.DataFrame([ft_infinitive])\n",
    "df8000 = df.transpose()"
   ]
  },
  {
   "cell_type": "code",
   "execution_count": 132,
   "metadata": {},
   "outputs": [
    {
     "data": {
      "text/html": [
       "<div>\n",
       "<style scoped>\n",
       "    .dataframe tbody tr th:only-of-type {\n",
       "        vertical-align: middle;\n",
       "    }\n",
       "\n",
       "    .dataframe tbody tr th {\n",
       "        vertical-align: top;\n",
       "    }\n",
       "\n",
       "    .dataframe thead th {\n",
       "        text-align: right;\n",
       "    }\n",
       "</style>\n",
       "<table border=\"1\" class=\"dataframe\">\n",
       "  <thead>\n",
       "    <tr style=\"text-align: right;\">\n",
       "      <th></th>\n",
       "      <th>0</th>\n",
       "    </tr>\n",
       "  </thead>\n",
       "  <tbody>\n",
       "    <tr>\n",
       "      <th>0</th>\n",
       "      <td>[rt, real, man, know, able, cook, one, attract...</td>\n",
       "    </tr>\n",
       "    <tr>\n",
       "      <th>1</th>\n",
       "      <td>[white, man, call, black, woman, negro, would,...</td>\n",
       "    </tr>\n",
       "    <tr>\n",
       "      <th>2</th>\n",
       "      <td>[white, gay, man, make, rape, joke, course, wo...</td>\n",
       "    </tr>\n",
       "    <tr>\n",
       "      <th>3</th>\n",
       "      <td>[lmfao, call, brother, nigger, turn, right, ar...</td>\n",
       "    </tr>\n",
       "    <tr>\n",
       "      <th>4</th>\n",
       "      <td>[dumb, nigger, stop, steal, people's, ideas, m...</td>\n",
       "    </tr>\n",
       "    <tr>\n",
       "      <th>...</th>\n",
       "      <td>...</td>\n",
       "    </tr>\n",
       "    <tr>\n",
       "      <th>15929</th>\n",
       "      <td>[whether, guy, use, gay, negative, make, rape,...</td>\n",
       "    </tr>\n",
       "    <tr>\n",
       "      <th>15930</th>\n",
       "      <td>[love, groove, sample, inventiveness, vocal, s...</td>\n",
       "    </tr>\n",
       "    <tr>\n",
       "      <th>15931</th>\n",
       "      <td>[fuck, wish, dumb, shit, nigger]</td>\n",
       "    </tr>\n",
       "    <tr>\n",
       "      <th>15932</th>\n",
       "      <td>[rt, i'm, sexist, stand, women, commentators]</td>\n",
       "    </tr>\n",
       "    <tr>\n",
       "      <th>15933</th>\n",
       "      <td>[first, one, irish, dare, secondly, ur, opinio...</td>\n",
       "    </tr>\n",
       "  </tbody>\n",
       "</table>\n",
       "<p>15934 rows × 1 columns</p>\n",
       "</div>"
      ],
      "text/plain": [
       "                                                       0\n",
       "0      [rt, real, man, know, able, cook, one, attract...\n",
       "1      [white, man, call, black, woman, negro, would,...\n",
       "2      [white, gay, man, make, rape, joke, course, wo...\n",
       "3      [lmfao, call, brother, nigger, turn, right, ar...\n",
       "4      [dumb, nigger, stop, steal, people's, ideas, m...\n",
       "...                                                  ...\n",
       "15929  [whether, guy, use, gay, negative, make, rape,...\n",
       "15930  [love, groove, sample, inventiveness, vocal, s...\n",
       "15931                   [fuck, wish, dumb, shit, nigger]\n",
       "15932      [rt, i'm, sexist, stand, women, commentators]\n",
       "15933  [first, one, irish, dare, secondly, ur, opinio...\n",
       "\n",
       "[15934 rows x 1 columns]"
      ]
     },
     "execution_count": 132,
     "metadata": {},
     "output_type": "execute_result"
    }
   ],
   "source": [
    "df8000"
   ]
  },
  {
   "cell_type": "code",
   "execution_count": null,
   "metadata": {},
   "outputs": [],
   "source": []
  }
 ],
 "metadata": {
  "kernelspec": {
   "display_name": "Python 3",
   "language": "python",
   "name": "python3"
  },
  "language_info": {
   "codemirror_mode": {
    "name": "ipython",
    "version": 3
   },
   "file_extension": ".py",
   "mimetype": "text/x-python",
   "name": "python",
   "nbconvert_exporter": "python",
   "pygments_lexer": "ipython3",
   "version": "3.7.10"
  }
 },
 "nbformat": 4,
 "nbformat_minor": 4
}
