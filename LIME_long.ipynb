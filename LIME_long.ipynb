{
 "cells": [
  {
   "cell_type": "code",
   "execution_count": 32,
   "metadata": {},
   "outputs": [],
   "source": [
    "import sklearn\n",
    "from sklearn.ensemble import RandomForestClassifier\n",
    "from sklearn.model_selection import GridSearchCV\n",
    "from sklearn.metrics import make_scorer\n",
    "from pathlib import Path\n",
    "import nltk, spacy\n",
    "from nltk.corpus import stopwords\n",
    "from wordcloud import STOPWORDS\n",
    "from collections import Counter\n",
    "from gensim.parsing.preprocessing import STOPWORDS as SW\n",
    "\n",
    "pd.options.display.float_format = '{:,.0f}'.format\n",
    "in_file = Path.cwd().parents[0] / 'Processed_datasets' / 'final_db.csv'\n",
    "my_stopwords = stopwords.words('english')\n",
    "stopwords = set(STOPWORDS).union(my_stopwords) #preparing stopwards list\n",
    "custom_stopwords = ['hi', '\\n', '\\n\\n', '&amp;', ' ', '.', '-',\n",
    "                    'got', \"it's\", 'it’s', \"i'm\", 'i’m', 'im', 'want', 'like', '$', '@']\n",
    "nlp = spacy.load('en_core_web_sm', exclude=['ner', 'tok2vec', 'tagger', 'paerser', 'senter', 'lemmatizer', 'attribute_ruler']) # using only for stopwords\n",
    "STOP_WORDS = nlp.Defaults.stop_words.union(custom_stopwords)\n",
    "ALL_STOP_WORDS = STOP_WORDS.union(SW).union(stopwords)"
   ]
  },
  {
   "cell_type": "code",
   "execution_count": 9,
   "metadata": {},
   "outputs": [
    {
     "name": "stdout",
     "output_type": "stream",
     "text": [
      "C:\\Users\\amaan\\Coding\\Text_minig\\Project\\TextMiningYAT\\Processed_datasets\\final_db.csv\n"
     ]
    }
   ],
   "source": [
    "#1. build a random forest classifier with 'longer' text\n",
    "import pandas as pd\n",
    "in_file = Path.cwd() / 'Processed_datasets' / 'final_db.csv'\n",
    "print(in_file)\n",
    "df_train = pd.read_csv(in_file, engine='python', usecols=['Text', 'oh_label'], encoding='utf-8') #not using unnecessary columns"
   ]
  },
  {
   "cell_type": "code",
   "execution_count": 54,
   "metadata": {},
   "outputs": [
    {
     "name": "stdout",
     "output_type": "stream",
     "text": [
      "\"White Sox are in first place. Some of you Sox fans are so spoiled. You talk like Jim Hendry came over from the Cubs and you havent won in a hundred years. Get a grip.\" Ready to run playing as mkr background music 😍👌 #mkr\n",
      "<class 'str'>\n",
      "<class 'numpy.float64'>\n"
     ]
    }
   ],
   "source": [
    "from sklearn.model_selection import train_test_split\n",
    "\n",
    "#sub_df_train = df_train[['Tokens','Label']].copy()\n",
    "#label_map = dict(zip(df_train['Label'].unique().tolist(), range(6)))\n",
    "#sub_df_train['Flipped_label'] = sub_df_train['Label'].apply(lambda x: label_map[x])\n",
    "xs = df_train['Text'].values\n",
    "ys = df_train['oh_label'].values\n",
    "train_x, test_x, train_y, test_y = train_test_split(xs, ys, random_state=42, test_size=0.15, stratify=ys)\n",
    "print(train_x[2005], test_x[2005])\n",
    "print(type(train_x[2005]))\n",
    "print(type(train_y[2005]))"
   ]
  },
  {
   "cell_type": "code",
   "execution_count": 52,
   "metadata": {},
   "outputs": [
    {
     "name": "stdout",
     "output_type": "stream",
     "text": [
      "Ready to run playing as mkr background music 😍👌 #mkr 0.0\n"
     ]
    }
   ],
   "source": [
    "print(test_x[2005], test_y[2005]\n",
    "     \n",
    "     )"
   ]
  },
  {
   "cell_type": "code",
   "execution_count": 66,
   "metadata": {},
   "outputs": [],
   "source": [
    "#from sklearn.pipeline import make_pipeline\n",
    "from imblearn.pipeline import make_pipeline\n",
    "from sklearn.ensemble import RandomForestClassifier\n",
    "from sklearn.metrics import make_scorer\n",
    "from sklearn.model_selection import GridSearchCV\n",
    "from nltk.tokenize import TweetTokenizer\n",
    "\n",
    "from sklearn.feature_extraction.text import TfidfVectorizer\n",
    "from imblearn.under_sampling import RandomUnderSampler \n",
    "\n",
    "PARAM_GRID = [{\n",
    "    'tfidfvectorizer__stop_words' : [None, ALL_STOP_WORDS]\n",
    "}]\n",
    "\n",
    "tknzr = TweetTokenizer(preserve_case=True, reduce_len=True, strip_handles=True)\n",
    "vect = TfidfVectorizer(max_df=.9, min_df=25, strip_accents='unicode', tokenizer=tknzr.tokenize)\n",
    "sampler = RandomUnderSampler(random_state=42) \n",
    "clf = RandomForestClassifier()\n",
    "c = make_pipeline(vect, sampler, clf)\n",
    "grid_srch = GridSearchCV(\n",
    "    estimator=c, param_grid=PARAM_GRID, refit=True, n_jobs=-1)\n",
    "fitted = grid_srch.fit(train_x, train_y)\n",
    "best_est = fitted.best_estimator_\n"
   ]
  },
  {
   "cell_type": "code",
   "execution_count": 8,
   "metadata": {
    "collapsed": true,
    "jupyter": {
     "outputs_hidden": true
    },
    "tags": []
   },
   "outputs": [
    {
     "data": {
      "text/plain": [
       "Pipeline(steps=[('countvectorizer',\n",
       "                 CountVectorizer(max_features=100, stop_words='english')),\n",
       "                ('randomforestclassifier', RandomForestClassifier())])"
      ]
     },
     "execution_count": 8,
     "metadata": {},
     "output_type": "execute_result"
    }
   ],
   "source": [
    "vect_2 = CountVectorizer(stop_words='english', max_features=100)\n",
    "c2 = make_pipeline(vect_2, clf)\n",
    "c2.fit(train_x, train_y)"
   ]
  },
  {
   "cell_type": "code",
   "execution_count": 67,
   "metadata": {},
   "outputs": [
    {
     "name": "stdout",
     "output_type": "stream",
     "text": [
      "[[0.37       0.63      ]\n",
      " [0.43       0.57      ]\n",
      " [0.71       0.29      ]\n",
      " [0.88775134 0.11224866]\n",
      " [0.75454545 0.24545455]\n",
      " [0.95       0.05      ]\n",
      " [0.66376263 0.33623737]\n",
      " [0.76       0.24      ]\n",
      " [0.66       0.34      ]\n",
      " [0.53       0.47      ]]\n"
     ]
    }
   ],
   "source": [
    "print (best_est.predict_proba(test_x[0:10]))#, c2.predict_proba(test_x[0:10]))"
   ]
  },
  {
   "cell_type": "code",
   "execution_count": 57,
   "metadata": {},
   "outputs": [
    {
     "name": "stdout",
     "output_type": "stream",
     "text": [
      "RandomForestClassifier()\n"
     ]
    }
   ],
   "source": [
    "best_clf = best_est[-1]\n",
    "print(best_clf)"
   ]
  },
  {
   "cell_type": "code",
   "execution_count": 60,
   "metadata": {},
   "outputs": [
    {
     "name": "stdout",
     "output_type": "stream",
     "text": [
      "Pipeline(steps=[('countvectorizer',\n",
      "                 CountVectorizer(max_features=100,\n",
      "                                 stop_words={'\\n', '\\n\\n', ' ', '$', '&amp;',\n",
      "                                             \"'d\", \"'ll\", \"'m\", \"'re\", \"'s\",\n",
      "                                             \"'ve\", '-', '.', '@', 'a', 'about',\n",
      "                                             'above', 'across', 'after',\n",
      "                                             'afterwards', 'again', 'against',\n",
      "                                             'ain', 'all', 'almost', 'alone',\n",
      "                                             'along', 'already', 'also',\n",
      "                                             'although', ...})),\n",
      "                ('randomundersampler', RandomUnderSampler(random_state=42)),\n",
      "                ('randomforestclassifier', RandomForestClassifier())])\n"
     ]
    }
   ],
   "source": [
    "print(best_est)"
   ]
  },
  {
   "cell_type": "code",
   "execution_count": 63,
   "metadata": {},
   "outputs": [],
   "source": [
    "from lime.lime_text import LimeTextExplainer\n",
    "explainer = LimeTextExplainer()"
   ]
  },
  {
   "cell_type": "code",
   "execution_count": 64,
   "metadata": {},
   "outputs": [
    {
     "name": "stdout",
     "output_type": "stream",
     "text": [
      "Document id: 21\n",
      "Probability(non-toxic) = 1.0\n",
      "True class: Toxic\n",
      "Tweet: @brendlewhat @MaxBlumenthal @veganforareason @dhere Christians and Hindus murdered for blasphemy by Muslim mobs. http://t.co/f3aWjksaUz\n"
     ]
    }
   ],
   "source": [
    "idx = 21\n",
    "exp = explainer.explain_instance(test_x[idx], best_est.predict_proba, num_features=6, )\n",
    "print('Document id: %d' % idx)\n",
    "print('Probability(non-toxic) =', best_est.predict_proba([test_x[idx]])[0, 1])\n",
    "print('True class: %s' % class_names[int(test_y[idx])])\n",
    "print('Tweet: %s' % test_x[idx])"
   ]
  },
  {
   "cell_type": "code",
   "execution_count": 30,
   "metadata": {},
   "outputs": [
    {
     "name": "stdout",
     "output_type": "stream",
     "text": [
      "\"Haley, all of your interviews are great, because you are great!\\nand wonderful! and beautiful! and ... I love you.\"\n"
     ]
    }
   ],
   "source": [
    "print(test_x[500\n",
    "            ])"
   ]
  },
  {
   "cell_type": "code",
   "execution_count": 29,
   "metadata": {},
   "outputs": [
    {
     "name": "stdout",
     "output_type": "stream",
     "text": [
      "[('hate', 0.15131205521371688), ('shadowrun', -0.05346704258417674)] [('shadowrun', 1.1859480308508826e-30), ('hate', 1.1745284392340069e-30)]\n"
     ]
    }
   ],
   "source": [
    "exp_2 = explainer.explain_instance(test_x[idx], c.predict_proba, num_features=6)\n",
    "print(exp.as_list(), exp_2.as_list())\n"
   ]
  },
  {
   "cell_type": "code",
   "execution_count": null,
   "metadata": {},
   "outputs": [],
   "source": []
  }
 ],
 "metadata": {
  "kernelspec": {
   "display_name": "Python 3",
   "language": "python",
   "name": "python3"
  },
  "language_info": {
   "codemirror_mode": {
    "name": "ipython",
    "version": 3
   },
   "file_extension": ".py",
   "mimetype": "text/x-python",
   "name": "python",
   "nbconvert_exporter": "python",
   "pygments_lexer": "ipython3",
   "version": "3.7.10"
  }
 },
 "nbformat": 4,
 "nbformat_minor": 4
}
