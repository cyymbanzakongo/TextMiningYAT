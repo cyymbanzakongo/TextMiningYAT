{
 "cells": [
  {
   "cell_type": "code",
   "execution_count": 1,
   "metadata": {},
   "outputs": [],
   "source": [
    "import sklearn\n",
    "from sklearn.ensemble import RandomForestClassifier\n",
    "from sklearn.model_selection import GridSearchCV\n",
    "from sklearn.metrics import make_scorer"
   ]
  },
  {
   "cell_type": "code",
   "execution_count": 3,
   "metadata": {},
   "outputs": [
    {
     "data": {
      "text/html": [
       "<div>\n",
       "<style scoped>\n",
       "    .dataframe tbody tr th:only-of-type {\n",
       "        vertical-align: middle;\n",
       "    }\n",
       "\n",
       "    .dataframe tbody tr th {\n",
       "        vertical-align: top;\n",
       "    }\n",
       "\n",
       "    .dataframe thead th {\n",
       "        text-align: right;\n",
       "    }\n",
       "</style>\n",
       "<table border=\"1\" class=\"dataframe\">\n",
       "  <thead>\n",
       "    <tr style=\"text-align: right;\">\n",
       "      <th></th>\n",
       "      <th>Unnamed: 0</th>\n",
       "      <th>Unnamed: 0.1</th>\n",
       "      <th>Tokens</th>\n",
       "      <th>Annotation</th>\n",
       "      <th>lang</th>\n",
       "      <th>Label</th>\n",
       "    </tr>\n",
       "  </thead>\n",
       "  <tbody>\n",
       "    <tr>\n",
       "      <th>0</th>\n",
       "      <td>3</td>\n",
       "      <td>3</td>\n",
       "      <td>hugs</td>\n",
       "      <td>none</td>\n",
       "      <td>tl</td>\n",
       "      <td>0</td>\n",
       "    </tr>\n",
       "    <tr>\n",
       "      <th>1</th>\n",
       "      <td>6</td>\n",
       "      <td>6</td>\n",
       "      <td>glad you like it</td>\n",
       "      <td>none</td>\n",
       "      <td>af</td>\n",
       "      <td>0</td>\n",
       "    </tr>\n",
       "    <tr>\n",
       "      <th>2</th>\n",
       "      <td>12</td>\n",
       "      <td>12</td>\n",
       "      <td>egyptian nightmare remember erdogan said turke...</td>\n",
       "      <td>none</td>\n",
       "      <td>af</td>\n",
       "      <td>0</td>\n",
       "    </tr>\n",
       "    <tr>\n",
       "      <th>3</th>\n",
       "      <td>15</td>\n",
       "      <td>15</td>\n",
       "      <td>bullshit</td>\n",
       "      <td>none</td>\n",
       "      <td>sq</td>\n",
       "      <td>0</td>\n",
       "    </tr>\n",
       "    <tr>\n",
       "      <th>4</th>\n",
       "      <td>24</td>\n",
       "      <td>24</td>\n",
       "      <td>rigged</td>\n",
       "      <td>none</td>\n",
       "      <td>da</td>\n",
       "      <td>0</td>\n",
       "    </tr>\n",
       "    <tr>\n",
       "      <th>...</th>\n",
       "      <td>...</td>\n",
       "      <td>...</td>\n",
       "      <td>...</td>\n",
       "      <td>...</td>\n",
       "      <td>...</td>\n",
       "      <td>...</td>\n",
       "    </tr>\n",
       "    <tr>\n",
       "      <th>4699</th>\n",
       "      <td>53040</td>\n",
       "      <td>53040</td>\n",
       "      <td>u will never get a ring rose</td>\n",
       "      <td>none</td>\n",
       "      <td>af</td>\n",
       "      <td>0</td>\n",
       "    </tr>\n",
       "    <tr>\n",
       "      <th>4700</th>\n",
       "      <td>53045</td>\n",
       "      <td>53045</td>\n",
       "      <td>a href software akuntansi laporan keuangan ter...</td>\n",
       "      <td>none</td>\n",
       "      <td>id</td>\n",
       "      <td>0</td>\n",
       "    </tr>\n",
       "    <tr>\n",
       "      <th>4701</th>\n",
       "      <td>53051</td>\n",
       "      <td>53051</td>\n",
       "      <td>fuck</td>\n",
       "      <td>none</td>\n",
       "      <td>sv</td>\n",
       "      <td>0</td>\n",
       "    </tr>\n",
       "    <tr>\n",
       "      <th>4702</th>\n",
       "      <td>53063</td>\n",
       "      <td>53063</td>\n",
       "      <td>nadie se salva de la regla xd</td>\n",
       "      <td>none</td>\n",
       "      <td>ca</td>\n",
       "      <td>0</td>\n",
       "    </tr>\n",
       "    <tr>\n",
       "      <th>4703</th>\n",
       "      <td>53064</td>\n",
       "      <td>53064</td>\n",
       "      <td>question are you a boy or a girl</td>\n",
       "      <td>none</td>\n",
       "      <td>fr</td>\n",
       "      <td>0</td>\n",
       "    </tr>\n",
       "  </tbody>\n",
       "</table>\n",
       "<p>4704 rows × 6 columns</p>\n",
       "</div>"
      ],
      "text/plain": [
       "      Unnamed: 0  Unnamed: 0.1  \\\n",
       "0              3             3   \n",
       "1              6             6   \n",
       "2             12            12   \n",
       "3             15            15   \n",
       "4             24            24   \n",
       "...          ...           ...   \n",
       "4699       53040         53040   \n",
       "4700       53045         53045   \n",
       "4701       53051         53051   \n",
       "4702       53063         53063   \n",
       "4703       53064         53064   \n",
       "\n",
       "                                                 Tokens Annotation lang  Label  \n",
       "0                                                  hugs       none   tl      0  \n",
       "1                                      glad you like it       none   af      0  \n",
       "2     egyptian nightmare remember erdogan said turke...       none   af      0  \n",
       "3                                              bullshit       none   sq      0  \n",
       "4                                                rigged       none   da      0  \n",
       "...                                                 ...        ...  ...    ...  \n",
       "4699                       u will never get a ring rose       none   af      0  \n",
       "4700  a href software akuntansi laporan keuangan ter...       none   id      0  \n",
       "4701                                               fuck       none   sv      0  \n",
       "4702                      nadie se salva de la regla xd       none   ca      0  \n",
       "4703                   question are you a boy or a girl       none   fr      0  \n",
       "\n",
       "[4704 rows x 6 columns]"
      ]
     },
     "execution_count": 3,
     "metadata": {},
     "output_type": "execute_result"
    }
   ],
   "source": [
    "#1. build a random forest classifier with 'longer' text\n",
    "import pandas as pd\n",
    "df_train = pd.read_csv(\"/Users/chengyiyang/Downloads/tweets_mis-filtrd4.csv\", engine='python')\n",
    "df_train"
   ]
  },
  {
   "cell_type": "code",
   "execution_count": 40,
   "metadata": {},
   "outputs": [],
   "source": [
    "from sklearn.model_selection import train_test_split\n",
    "\n",
    "#sub_df_train = df_train[['Tokens','Label']].copy()\n",
    "#label_map = dict(zip(df_train['Label'].unique().tolist(), range(6)))\n",
    "#sub_df_train['Flipped_label'] = sub_df_train['Label'].apply(lambda x: label_map[x])\n",
    "xs = sub_df_train['Tokens'].values\n",
    "ys = sub_df_train['Label'].values\n",
    "train_x, test_x, train_y, test_y = train_test_split(xs, ys, random_state=42, test_size=0.15)"
   ]
  },
  {
   "cell_type": "code",
   "execution_count": 41,
   "metadata": {},
   "outputs": [
    {
     "name": "stdout",
     "output_type": "stream",
     "text": [
      "genius 0\n"
     ]
    }
   ],
   "source": [
    "print(test_x[111], test_y[111]\n",
    "     \n",
    "     )"
   ]
  },
  {
   "cell_type": "code",
   "execution_count": 7,
   "metadata": {},
   "outputs": [
    {
     "data": {
      "text/plain": [
       "Pipeline(steps=[('countvectorizer', CountVectorizer(max_features=100)),\n",
       "                ('randomforestclassifier', RandomForestClassifier())])"
      ]
     },
     "execution_count": 7,
     "metadata": {},
     "output_type": "execute_result"
    }
   ],
   "source": [
    "from sklearn.pipeline import make_pipeline\n",
    "from sklearn.ensemble import RandomForestClassifier\n",
    "from sklearn.metrics import make_scorer\n",
    "\n",
    "from sklearn.feature_extraction.text import CountVectorizer  \n",
    "from sklearn.feature_extraction.text import TfidfTransformer \n",
    "\n",
    "vectorizer=CountVectorizer(max_features=100)\n",
    "\n",
    "\n",
    "clf = RandomForestClassifier()\n",
    "c = make_pipeline(vectorizer, clf)\n",
    "\n",
    "c.fit(train_x, train_y)"
   ]
  },
  {
   "cell_type": "code",
   "execution_count": 8,
   "metadata": {},
   "outputs": [
    {
     "data": {
      "text/plain": [
       "Pipeline(steps=[('countvectorizer',\n",
       "                 CountVectorizer(max_features=100, stop_words='english')),\n",
       "                ('randomforestclassifier', RandomForestClassifier())])"
      ]
     },
     "execution_count": 8,
     "metadata": {},
     "output_type": "execute_result"
    }
   ],
   "source": [
    "vect_2 = CountVectorizer(stop_words='english', max_features=100)\n",
    "c2 = make_pipeline(vect_2, clf)\n",
    "c2.fit(train_x, train_y)"
   ]
  },
  {
   "cell_type": "code",
   "execution_count": 9,
   "metadata": {},
   "outputs": [
    {
     "name": "stdout",
     "output_type": "stream",
     "text": [
      "[[0.82837449 0.17162551]\n",
      " [1.         0.        ]\n",
      " [0.87074956 0.12925044]\n",
      " [0.8629043  0.1370957 ]\n",
      " [0.93216047 0.06783953]\n",
      " [0.18090164 0.81909836]\n",
      " [0.94181232 0.05818768]\n",
      " [1.         0.        ]\n",
      " [0.8629043  0.1370957 ]\n",
      " [0.97747127 0.02252873]] [[0.11282276 0.88717724]\n",
      " [0.8629043  0.1370957 ]\n",
      " [0.71350148 0.28649852]\n",
      " [0.8629043  0.1370957 ]\n",
      " [0.93216047 0.06783953]\n",
      " [0.70739285 0.29260715]\n",
      " [0.68884824 0.31115176]\n",
      " [0.8629043  0.1370957 ]\n",
      " [0.8629043  0.1370957 ]\n",
      " [1.         0.        ]]\n"
     ]
    }
   ],
   "source": [
    "print (c.predict_proba(test_x[0:10]), c2.predict_proba(test_x[0:10]))"
   ]
  },
  {
   "cell_type": "code",
   "execution_count": 17,
   "metadata": {},
   "outputs": [],
   "source": [
    "from lime.lime_text import LimeTextExplainer\n",
    "class_names = ['Non-Toxic', 'Toxic']\n",
    "explainer = LimeTextExplainer(class_names=class_names)"
   ]
  },
  {
   "cell_type": "code",
   "execution_count": 39,
   "metadata": {},
   "outputs": [
    {
     "name": "stdout",
     "output_type": "stream",
     "text": [
      "Document id: 21\n",
      "Probability(non-toxic) = 0.1370957014586832 0.8408862803862802\n",
      "True class: Non-Toxic\n",
      "Tweet: kandre are such bad sports\n"
     ]
    }
   ],
   "source": [
    "idx = 21\n",
    "exp = explainer.explain_instance(test_x[idx], c2.predict_proba, num_features=6)\n",
    "print('Document id: %d' % idx)\n",
    "print('Probability(non-toxic) =', c2.predict_proba([test_x[idx]])[0,1], c.predict_proba([test_x[idx]])[0,1])\n",
    "print('True class: %s' % class_names[test_y[idx]])\n",
    "print('Tweet: %s' % test_x[idx])"
   ]
  },
  {
   "cell_type": "code",
   "execution_count": 24,
   "metadata": {},
   "outputs": [
    {
     "name": "stdout",
     "output_type": "stream",
     "text": [
      "yup clemson uni\n"
     ]
    }
   ],
   "source": [
    "print(test_x[500\n",
    "            ])"
   ]
  },
  {
   "cell_type": "code",
   "execution_count": 29,
   "metadata": {},
   "outputs": [
    {
     "name": "stdout",
     "output_type": "stream",
     "text": [
      "[('hate', 0.15131205521371688), ('shadowrun', -0.05346704258417674)] [('shadowrun', 1.1859480308508826e-30), ('hate', 1.1745284392340069e-30)]\n"
     ]
    }
   ],
   "source": [
    "exp_2 = explainer.explain_instance(test_x[idx], c.predict_proba, num_features=6)\n",
    "print(exp.as_list(), exp_2.as_list())\n"
   ]
  },
  {
   "cell_type": "code",
   "execution_count": null,
   "metadata": {},
   "outputs": [],
   "source": []
  }
 ],
 "metadata": {
  "kernelspec": {
   "display_name": "Python 3",
   "language": "python",
   "name": "python3"
  },
  "language_info": {
   "codemirror_mode": {
    "name": "ipython",
    "version": 3
   },
   "file_extension": ".py",
   "mimetype": "text/x-python",
   "name": "python",
   "nbconvert_exporter": "python",
   "pygments_lexer": "ipython3",
   "version": "3.8.5"
  }
 },
 "nbformat": 4,
 "nbformat_minor": 4
}
