{
 "cells": [
  {
   "cell_type": "code",
   "execution_count": 24,
   "metadata": {},
   "outputs": [],
   "source": [
    "import nltk\n",
    "import spacy\n",
    "import pandas as pd\n",
    "from nltk.corpus import stopwords\n",
    "from wordcloud import STOPWORDS\n",
    "from collections import Counter\n",
    "from gensim.parsing.preprocessing import STOPWORDS as SW\n",
    "from sklearn.model_selection import train_test_split \n",
    "\n",
    "\n",
    "df_r = pd.read_csv('8000ethnicity.txt', delimiter = \"\\t\", header=None,)\n",
    "df_s = pd.read_csv('8000gender.txt', delimiter = \"\\t\", header=None)\n",
    "df = pd.concat([df_r, df_s])\n",
    "df.columns = ['Tweet']\n",
    "df = df.sample(frac=1).reset_index(drop=True) #randomising rows"
   ]
  },
  {
   "cell_type": "code",
   "execution_count": 25,
   "metadata": {},
   "outputs": [],
   "source": [
    "my_stopwords = stopwords.words('english')\n",
    "stopwords = set(STOPWORDS).union(my_stopwords) #preparing stopwards list\n",
    "custom_stopwords = ['hi', '\\n', '\\n\\n', '&amp;', ' ', '.', '-',\n",
    "                    'got', \"it's\", 'it’s', \"i'm\", 'i’m', 'im', 'want', 'like', '$', '@']\n",
    "nlp = spacy.load('en_core_web_sm', exclude=['ner', 'tok2vec', 'tagger', 'paerser', 'senter', 'lemmatizer', 'attribute_ruler']) # using only for stopwords\n",
    "STOP_WORDS = nlp.Defaults.stop_words.union(custom_stopwords)\n",
    "ALL_STOP_WORDS = STOP_WORDS.union(SW).union(stopwords)"
   ]
  },
  {
   "cell_type": "code",
   "execution_count": 26,
   "metadata": {},
   "outputs": [
    {
     "data": {
      "text/html": [
       "<div>\n",
       "<style scoped>\n",
       "    .dataframe tbody tr th:only-of-type {\n",
       "        vertical-align: middle;\n",
       "    }\n",
       "\n",
       "    .dataframe tbody tr th {\n",
       "        vertical-align: top;\n",
       "    }\n",
       "\n",
       "    .dataframe thead th {\n",
       "        text-align: right;\n",
       "    }\n",
       "</style>\n",
       "<table border=\"1\" class=\"dataframe\">\n",
       "  <thead>\n",
       "    <tr style=\"text-align: right;\">\n",
       "      <th></th>\n",
       "      <th>Tweet</th>\n",
       "    </tr>\n",
       "  </thead>\n",
       "  <tbody>\n",
       "    <tr>\n",
       "      <th>0</th>\n",
       "      <td>Watching a doc about hate. These racists look ...</td>\n",
       "    </tr>\n",
       "    <tr>\n",
       "      <th>1</th>\n",
       "      <td>Her Dad must be proud. RT @Gawker: Miley Cyrus...</td>\n",
       "    </tr>\n",
       "    <tr>\n",
       "      <th>2</th>\n",
       "      <td>Salty af too! Lol @JayJTheKidd: Damn you mad b...</td>\n",
       "    </tr>\n",
       "    <tr>\n",
       "      <th>3</th>\n",
       "      <td>Thes days, I am sick and tired of Niggers afte...</td>\n",
       "    </tr>\n",
       "    <tr>\n",
       "      <th>4</th>\n",
       "      <td>@imprisonedrider Can you explain why that woul...</td>\n",
       "    </tr>\n",
       "    <tr>\n",
       "      <th>...</th>\n",
       "      <td>...</td>\n",
       "    </tr>\n",
       "    <tr>\n",
       "      <th>15929</th>\n",
       "      <td>@ValiantRook To each their own...commenting mo...</td>\n",
       "    </tr>\n",
       "    <tr>\n",
       "      <th>15930</th>\n",
       "      <td>Fuck you Screaming on BET thats the only Chann...</td>\n",
       "    </tr>\n",
       "    <tr>\n",
       "      <th>15931</th>\n",
       "      <td>.@RealTrumpsFeels Evidently Twit'n'Run feminis...</td>\n",
       "    </tr>\n",
       "    <tr>\n",
       "      <th>15932</th>\n",
       "      <td>Oh I'm 18 and going to keep trying huh FUCK U ...</td>\n",
       "    </tr>\n",
       "    <tr>\n",
       "      <th>15933</th>\n",
       "      <td>I'm not sexist, there are women everywhere! @d...</td>\n",
       "    </tr>\n",
       "  </tbody>\n",
       "</table>\n",
       "<p>15934 rows × 1 columns</p>\n",
       "</div>"
      ],
      "text/plain": [
       "                                                   Tweet\n",
       "0      Watching a doc about hate. These racists look ...\n",
       "1      Her Dad must be proud. RT @Gawker: Miley Cyrus...\n",
       "2      Salty af too! Lol @JayJTheKidd: Damn you mad b...\n",
       "3      Thes days, I am sick and tired of Niggers afte...\n",
       "4      @imprisonedrider Can you explain why that woul...\n",
       "...                                                  ...\n",
       "15929  @ValiantRook To each their own...commenting mo...\n",
       "15930  Fuck you Screaming on BET thats the only Chann...\n",
       "15931  .@RealTrumpsFeels Evidently Twit'n'Run feminis...\n",
       "15932  Oh I'm 18 and going to keep trying huh FUCK U ...\n",
       "15933  I'm not sexist, there are women everywhere! @d...\n",
       "\n",
       "[15934 rows x 1 columns]"
      ]
     },
     "execution_count": 26,
     "metadata": {},
     "output_type": "execute_result"
    }
   ],
   "source": [
    "df"
   ]
  },
  {
   "cell_type": "code",
   "execution_count": 27,
   "metadata": {},
   "outputs": [],
   "source": [
    "tweets = df['Tweet'].tolist()"
   ]
  },
  {
   "cell_type": "code",
   "execution_count": 28,
   "metadata": {},
   "outputs": [],
   "source": [
    "from nltk.tokenize import TweetTokenizer #I chose to tokenize with this, as it gets rid of @ handlers\n",
    "tknzr = TweetTokenizer(preserve_case=True, reduce_len=False, strip_handles=True)\n",
    "\n",
    "lst = []\n",
    "\n",
    "for tweet in tweets:    \n",
    "    if type(tweet) != str: #removing tweets that are not 'tokenizable'\n",
    "        pass\n",
    "    else:\n",
    "        lst.append(tknzr.tokenize(tweet))"
   ]
  },
  {
   "cell_type": "code",
   "execution_count": 29,
   "metadata": {},
   "outputs": [],
   "source": [
    "\n",
    "from nltk.tokenize import RegexpTokenizer\n",
    "from nltk.stem import PorterStemmer \n",
    "ps = PorterStemmer() \n",
    "\n",
    "remove = \"!$%&()*+rt, .-./:;<=>?@[\\]^_`’{|}~]’\\wdiwj/'0123456789......\\\"\\x92\\\\n\\r\\“\\”\""
   ]
  },
  {
   "cell_type": "code",
   "execution_count": 30,
   "metadata": {},
   "outputs": [],
   "source": [
    "ft_infinitive = [] #filtered tokens with verbs in infinitive tense\n",
    "for tweet in lst:\n",
    "    filt = []\n",
    "    for token in tweet:\n",
    "        if 'http' in token.lower():\n",
    "            continue\n",
    "        if token.lower() in remove:\n",
    "            continue\n",
    "        if token.lower() in ALL_STOP_WORDS:\n",
    "            continue\n",
    "        if token.lower() == 'rt':\n",
    "            continue\n",
    "        else:\n",
    "            filt.append((nltk.WordNetLemmatizer().lemmatize(token.lower(), 'v')))\n",
    "    ft_infinitive.append(filt)"
   ]
  },
  {
   "cell_type": "code",
   "execution_count": 31,
   "metadata": {},
   "outputs": [],
   "source": [
    "ft_finite = [] #filtered tokens with verbs in finite tense\n",
    "for tweet in lst:\n",
    "    filt = []\n",
    "    for token in tweet:\n",
    "        if 'http' in token.lower():\n",
    "            continue\n",
    "        if token.lower() in remove:\n",
    "            continue\n",
    "        if token.lower() in ALL_STOP_WORDS:\n",
    "            continue\n",
    "        if token.lower() == 'rt':\n",
    "            continue        \n",
    "        else:\n",
    "            filt.append((nltk.WordNetLemmatizer().lemmatize(token.lower())))\n",
    "    ft_finite.append(filt)\n",
    "   # [' '.join(i) for i in X_test]"
   ]
  },
  {
   "cell_type": "code",
   "execution_count": 32,
   "metadata": {},
   "outputs": [],
   "source": [
    "f_f = [' '.join(i) for i in ft_finite]\n",
    "f_i = [' '.join(i) for i in ft_infinitive]\n",
    "#converting lists of tokens into sentences "
   ]
  },
  {
   "cell_type": "code",
   "execution_count": 36,
   "metadata": {},
   "outputs": [],
   "source": [
    "df = pd.DataFrame([f_i])\n",
    "df8000inf = df.transpose()"
   ]
  },
  {
   "cell_type": "code",
   "execution_count": 39,
   "metadata": {},
   "outputs": [],
   "source": [
    "df8000inf.to_csv('test.csv')"
   ]
  },
  {
   "cell_type": "code",
   "execution_count": null,
   "metadata": {},
   "outputs": [],
   "source": [
    "df = pd.DataFrame([f_f])\n",
    "df8000fin = df.transpose()"
   ]
  },
  {
   "cell_type": "code",
   "execution_count": 38,
   "metadata": {},
   "outputs": [
    {
     "data": {
      "text/html": [
       "<div>\n",
       "<style scoped>\n",
       "    .dataframe tbody tr th:only-of-type {\n",
       "        vertical-align: middle;\n",
       "    }\n",
       "\n",
       "    .dataframe tbody tr th {\n",
       "        vertical-align: top;\n",
       "    }\n",
       "\n",
       "    .dataframe thead th {\n",
       "        text-align: right;\n",
       "    }\n",
       "</style>\n",
       "<table border=\"1\" class=\"dataframe\">\n",
       "  <thead>\n",
       "    <tr style=\"text-align: right;\">\n",
       "      <th></th>\n",
       "      <th>0</th>\n",
       "    </tr>\n",
       "  </thead>\n",
       "  <tbody>\n",
       "    <tr>\n",
       "      <th>0</th>\n",
       "      <td>feel bad brain fuck obama dumb as nigger</td>\n",
       "    </tr>\n",
       "    <tr>\n",
       "      <th>1</th>\n",
       "      <td>fucking retard #dramaalert started talking pla...</td>\n",
       "    </tr>\n",
       "    <tr>\n",
       "      <th>2</th>\n",
       "      <td>sexist girl comedian laugh</td>\n",
       "    </tr>\n",
       "    <tr>\n",
       "      <th>3</th>\n",
       "      <td>y'all right ---&gt; fuck obama dumb as nigger</td>\n",
       "    </tr>\n",
       "    <tr>\n",
       "      <th>4</th>\n",
       "      <td>incessant needlepoint neo-communist feminazi g...</td>\n",
       "    </tr>\n",
       "    <tr>\n",
       "      <th>...</th>\n",
       "      <td>...</td>\n",
       "    </tr>\n",
       "    <tr>\n",
       "      <th>15929</th>\n",
       "      <td>segregated community negro community white com...</td>\n",
       "    </tr>\n",
       "    <tr>\n",
       "      <th>15930</th>\n",
       "      <td>kill men woman fuck compliment objectification...</td>\n",
       "    </tr>\n",
       "    <tr>\n",
       "      <th>15931</th>\n",
       "      <td>kat biggest bitch mkr history #mkr2015 #mkr #c...</td>\n",
       "    </tr>\n",
       "    <tr>\n",
       "      <th>15932</th>\n",
       "      <td>yes kat andre unsportsmanlike scored bimbo #mkr</td>\n",
       "    </tr>\n",
       "    <tr>\n",
       "      <th>15933</th>\n",
       "      <td>jun hong kong police terrorist brutalize prote...</td>\n",
       "    </tr>\n",
       "  </tbody>\n",
       "</table>\n",
       "<p>15934 rows × 1 columns</p>\n",
       "</div>"
      ],
      "text/plain": [
       "                                                       0\n",
       "0               feel bad brain fuck obama dumb as nigger\n",
       "1      fucking retard #dramaalert started talking pla...\n",
       "2                             sexist girl comedian laugh\n",
       "3             y'all right ---> fuck obama dumb as nigger\n",
       "4      incessant needlepoint neo-communist feminazi g...\n",
       "...                                                  ...\n",
       "15929  segregated community negro community white com...\n",
       "15930  kill men woman fuck compliment objectification...\n",
       "15931  kat biggest bitch mkr history #mkr2015 #mkr #c...\n",
       "15932    yes kat andre unsportsmanlike scored bimbo #mkr\n",
       "15933  jun hong kong police terrorist brutalize prote...\n",
       "\n",
       "[15934 rows x 1 columns]"
      ]
     },
     "execution_count": 38,
     "metadata": {},
     "output_type": "execute_result"
    }
   ],
   "source": [
    "df8000fin"
   ]
  },
  {
   "cell_type": "code",
   "execution_count": null,
   "metadata": {},
   "outputs": [],
   "source": []
  },
  {
   "cell_type": "code",
   "execution_count": null,
   "metadata": {},
   "outputs": [],
   "source": []
  }
 ],
 "metadata": {
  "kernelspec": {
   "display_name": "Python 3",
   "language": "python",
   "name": "python3"
  },
  "language_info": {
   "codemirror_mode": {
    "name": "ipython",
    "version": 3
   },
   "file_extension": ".py",
   "mimetype": "text/x-python",
   "name": "python",
   "nbconvert_exporter": "python",
   "pygments_lexer": "ipython3",
   "version": "3.8.5"
  }
 },
 "nbformat": 4,
 "nbformat_minor": 4
}
